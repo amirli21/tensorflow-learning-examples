{
  "nbformat": 4,
  "nbformat_minor": 0,
  "metadata": {
    "colab": {
      "name": "Tensorflow basics",
      "provenance": []
    },
    "kernelspec": {
      "name": "python3",
      "display_name": "Python 3"
    },
    "language_info": {
      "name": "python"
    }
  },
  "cells": [
    {
      "cell_type": "markdown",
      "source": [
        "# Tensorflow first steps"
      ],
      "metadata": {
        "id": "6voF3RRpurT4"
      }
    },
    {
      "cell_type": "markdown",
      "source": [
        "* Introduction to tensors\n",
        "* Getting information from tensors\n",
        "* Manipulating tensors\n",
        "* Tensors & <a href=\"https://numpy.org/\">NumPy</a>\n",
        "* Using <a href=\"https://www.tensorflow.org/api_docs/python/tf/function\">@tf.function</a> (a way to speed up your regular Python functions)\n",
        "* Using GPUs(or TPUs) with TensorFlow\n",
        "\n",
        "## Introduction to Tensors"
      ],
      "metadata": {
        "id": "X3RClWWvu7jK"
      }
    },
    {
      "cell_type": "code",
      "source": [
        "import tensorflow as tf\n",
        "print(tf.__version__) # tensorflow version"
      ],
      "metadata": {
        "colab": {
          "base_uri": "https://localhost:8080/"
        },
        "id": "UCdGs_8Cve52",
        "outputId": "08d397c3-b381-461f-8442-3b6643951b19"
      },
      "execution_count": 1,
      "outputs": [
        {
          "output_type": "stream",
          "name": "stdout",
          "text": [
            "2.8.2\n"
          ]
        }
      ]
    },
    {
      "cell_type": "markdown",
      "source": [
        "### Create tensors with <a href=\"https://www.tensorflow.org/api_docs/python/tf/constant\">tf.constant()</a>"
      ],
      "metadata": {
        "id": "5xD_t5LPxhUE"
      }
    },
    {
      "cell_type": "code",
      "source": [
        "scalar = tf.constant(10)\n",
        "print(scalar)"
      ],
      "metadata": {
        "colab": {
          "base_uri": "https://localhost:8080/"
        },
        "id": "1yzKwWXsx7pb",
        "outputId": "bcb2d23e-84d6-495f-aaa1-72a5805db361"
      },
      "execution_count": 2,
      "outputs": [
        {
          "output_type": "stream",
          "name": "stdout",
          "text": [
            "tf.Tensor(10, shape=(), dtype=int32)\n"
          ]
        }
      ]
    },
    {
      "cell_type": "code",
      "source": [
        "# Check the number of dimensions(ndim) of a tensor\n",
        "\n",
        "scalar.ndim"
      ],
      "metadata": {
        "colab": {
          "base_uri": "https://localhost:8080/"
        },
        "id": "x8wbqMvWyDhx",
        "outputId": "3bb87d6a-d6ca-4a0d-bf68-52a8714d2e52"
      },
      "execution_count": 3,
      "outputs": [
        {
          "output_type": "execute_result",
          "data": {
            "text/plain": [
              "0"
            ]
          },
          "metadata": {},
          "execution_count": 3
        }
      ]
    },
    {
      "cell_type": "code",
      "source": [
        "# Create a vector\n",
        "\n",
        "vector = tf.constant([10, 10])\n",
        "vector"
      ],
      "metadata": {
        "colab": {
          "base_uri": "https://localhost:8080/"
        },
        "id": "yTbWmbt0zIHr",
        "outputId": "35f9b653-a7d6-4bb8-d7d3-392bd6bccd8d"
      },
      "execution_count": 4,
      "outputs": [
        {
          "output_type": "execute_result",
          "data": {
            "text/plain": [
              "<tf.Tensor: shape=(2,), dtype=int32, numpy=array([10, 10], dtype=int32)>"
            ]
          },
          "metadata": {},
          "execution_count": 4
        }
      ]
    },
    {
      "cell_type": "code",
      "source": [
        "vector.ndim"
      ],
      "metadata": {
        "colab": {
          "base_uri": "https://localhost:8080/"
        },
        "id": "FzpbiYZYziK7",
        "outputId": "5c9babe5-cba9-437b-f2cc-e93f2dc96afc"
      },
      "execution_count": 5,
      "outputs": [
        {
          "output_type": "execute_result",
          "data": {
            "text/plain": [
              "1"
            ]
          },
          "metadata": {},
          "execution_count": 5
        }
      ]
    },
    {
      "cell_type": "code",
      "source": [
        "# Create a matrix\n",
        "\n",
        "matrix = tf.constant([[5, 9], [2, 4]])\n",
        "matrix"
      ],
      "metadata": {
        "colab": {
          "base_uri": "https://localhost:8080/"
        },
        "id": "YyWo3RjMzlaE",
        "outputId": "79390d59-7660-42ce-c153-2af96f8edcc5"
      },
      "execution_count": 6,
      "outputs": [
        {
          "output_type": "execute_result",
          "data": {
            "text/plain": [
              "<tf.Tensor: shape=(2, 2), dtype=int32, numpy=\n",
              "array([[5, 9],\n",
              "       [2, 4]], dtype=int32)>"
            ]
          },
          "metadata": {},
          "execution_count": 6
        }
      ]
    },
    {
      "cell_type": "code",
      "source": [
        "matrix.ndim"
      ],
      "metadata": {
        "colab": {
          "base_uri": "https://localhost:8080/"
        },
        "id": "2Ecofbi20IC5",
        "outputId": "095e3578-9fd9-43d3-fbd2-e0edbee8c8ea"
      },
      "execution_count": 7,
      "outputs": [
        {
          "output_type": "execute_result",
          "data": {
            "text/plain": [
              "2"
            ]
          },
          "metadata": {},
          "execution_count": 7
        }
      ]
    },
    {
      "cell_type": "markdown",
      "source": [
        "### Create tensors with <a href=\"https://www.tensorflow.org/api_docs/python/tf/Variable\">tf.Variable()</a>"
      ],
      "metadata": {
        "id": "ucl0zygH0ccZ"
      }
    },
    {
      "cell_type": "code",
      "source": [
        "tf.Variable"
      ],
      "metadata": {
        "colab": {
          "base_uri": "https://localhost:8080/"
        },
        "id": "1cNnLCFP3Glm",
        "outputId": "e307a6fb-e093-4fa4-9939-7f6ab31183b2"
      },
      "execution_count": 8,
      "outputs": [
        {
          "output_type": "execute_result",
          "data": {
            "text/plain": [
              "tensorflow.python.ops.variables.Variable"
            ]
          },
          "metadata": {},
          "execution_count": 8
        }
      ]
    },
    {
      "cell_type": "code",
      "source": [
        "# Create the same tensor with tf.Variable() as above\n",
        "\n",
        "changeable_tensor = tf.Variable([4, 8])\n",
        "unchangeable_tensor = tf.constant([4, 8])"
      ],
      "metadata": {
        "id": "b0d7TAu-3aab"
      },
      "execution_count": 9,
      "outputs": []
    },
    {
      "cell_type": "code",
      "source": [
        "changeable_tensor, unchangeable_tensor"
      ],
      "metadata": {
        "colab": {
          "base_uri": "https://localhost:8080/"
        },
        "id": "Xw6HZlubTFZx",
        "outputId": "336347fc-10a2-4c47-e38c-658b33a28bb1"
      },
      "execution_count": 10,
      "outputs": [
        {
          "output_type": "execute_result",
          "data": {
            "text/plain": [
              "(<tf.Variable 'Variable:0' shape=(2,) dtype=int32, numpy=array([4, 8], dtype=int32)>,\n",
              " <tf.Tensor: shape=(2,), dtype=int32, numpy=array([4, 8], dtype=int32)>)"
            ]
          },
          "metadata": {},
          "execution_count": 10
        }
      ]
    },
    {
      "cell_type": "code",
      "source": [
        "print(changeable_tensor)"
      ],
      "metadata": {
        "colab": {
          "base_uri": "https://localhost:8080/"
        },
        "id": "ZHFG7yAtTING",
        "outputId": "e2471c28-baf1-430c-c164-9b6579fb4035"
      },
      "execution_count": 11,
      "outputs": [
        {
          "output_type": "stream",
          "name": "stdout",
          "text": [
            "<tf.Variable 'Variable:0' shape=(2,) dtype=int32, numpy=array([4, 8], dtype=int32)>\n"
          ]
        }
      ]
    },
    {
      "cell_type": "code",
      "source": [
        "# Let's try change one of the elements in our changeable tensor\n",
        "\n",
        "# changeable_tensor[0] = 8 # 'ResourceVariable' object does not support item assignment\n",
        "# changeable_tensor"
      ],
      "metadata": {
        "id": "zVopH0UyTd1l"
      },
      "execution_count": 12,
      "outputs": []
    },
    {
      "cell_type": "code",
      "source": [
        "# Right way\n",
        "changeable_tensor[0].assign(8)\n",
        "changeable_tensor"
      ],
      "metadata": {
        "colab": {
          "base_uri": "https://localhost:8080/"
        },
        "id": "mU8HtG2vTTP7",
        "outputId": "35d466dc-0a25-4cf5-d990-c687cf5fb442"
      },
      "execution_count": 13,
      "outputs": [
        {
          "output_type": "execute_result",
          "data": {
            "text/plain": [
              "<tf.Variable 'Variable:0' shape=(2,) dtype=int32, numpy=array([8, 8], dtype=int32)>"
            ]
          },
          "metadata": {},
          "execution_count": 13
        }
      ]
    },
    {
      "cell_type": "code",
      "source": [
        "# unchangeable_tensor[0] = 4 -> TypeError\n",
        "# unchangeable_tensor.assign(8) -> AttributeError"
      ],
      "metadata": {
        "id": "is5GER4NUGBt"
      },
      "execution_count": 14,
      "outputs": []
    },
    {
      "cell_type": "markdown",
      "source": [
        "### Creating random tensors\n",
        "\n",
        "Random tensors are tensors of some definite size which contain random numbers"
      ],
      "metadata": {
        "id": "1p-PotvDUNAo"
      }
    },
    {
      "cell_type": "code",
      "source": [
        "# Create two random but the same tensors\n",
        "\n",
        "random_1 = tf.random.Generator.from_seed(35)\n",
        "random_1 = random_1.normal(shape=(3, 7))\n",
        "random_1"
      ],
      "metadata": {
        "colab": {
          "base_uri": "https://localhost:8080/"
        },
        "id": "MiSYVjBtVK8r",
        "outputId": "6ca11399-0607-4356-e734-b28fe2448416"
      },
      "execution_count": 15,
      "outputs": [
        {
          "output_type": "execute_result",
          "data": {
            "text/plain": [
              "<tf.Tensor: shape=(3, 7), dtype=float32, numpy=\n",
              "array([[ 0.495291  , -0.648484  , -1.8700892 ,  2.7830641 , -0.645002  ,\n",
              "         0.18022095, -0.14656258],\n",
              "       [ 0.34374258,  0.41367555,  0.17573498, -1.0871261 ,  0.45905176,\n",
              "         0.20386009,  0.562024  ],\n",
              "       [-2.3001142 , -1.349454  ,  0.81485   ,  1.2790666 ,  0.02203509,\n",
              "         1.5428121 ,  0.78953624]], dtype=float32)>"
            ]
          },
          "metadata": {},
          "execution_count": 15
        }
      ]
    },
    {
      "cell_type": "code",
      "source": [
        "random_2 = tf.random.Generator.from_seed(35)\n",
        "random_2 = random_2.normal(shape=(3, 7))\n",
        "random_2"
      ],
      "metadata": {
        "colab": {
          "base_uri": "https://localhost:8080/"
        },
        "id": "3AJ8XbNpWK26",
        "outputId": "7a4fb069-7352-4541-ed8e-2a27afb33b4a"
      },
      "execution_count": 16,
      "outputs": [
        {
          "output_type": "execute_result",
          "data": {
            "text/plain": [
              "<tf.Tensor: shape=(3, 7), dtype=float32, numpy=\n",
              "array([[ 0.495291  , -0.648484  , -1.8700892 ,  2.7830641 , -0.645002  ,\n",
              "         0.18022095, -0.14656258],\n",
              "       [ 0.34374258,  0.41367555,  0.17573498, -1.0871261 ,  0.45905176,\n",
              "         0.20386009,  0.562024  ],\n",
              "       [-2.3001142 , -1.349454  ,  0.81485   ,  1.2790666 ,  0.02203509,\n",
              "         1.5428121 ,  0.78953624]], dtype=float32)>"
            ]
          },
          "metadata": {},
          "execution_count": 16
        }
      ]
    },
    {
      "cell_type": "code",
      "source": [
        "random_1, random_2, random_1 == random_2"
      ],
      "metadata": {
        "colab": {
          "base_uri": "https://localhost:8080/"
        },
        "id": "MXqOvj4GWroq",
        "outputId": "c07ef2b3-e8bf-4d9b-ed2f-bbaefcf632da"
      },
      "execution_count": 17,
      "outputs": [
        {
          "output_type": "execute_result",
          "data": {
            "text/plain": [
              "(<tf.Tensor: shape=(3, 7), dtype=float32, numpy=\n",
              " array([[ 0.495291  , -0.648484  , -1.8700892 ,  2.7830641 , -0.645002  ,\n",
              "          0.18022095, -0.14656258],\n",
              "        [ 0.34374258,  0.41367555,  0.17573498, -1.0871261 ,  0.45905176,\n",
              "          0.20386009,  0.562024  ],\n",
              "        [-2.3001142 , -1.349454  ,  0.81485   ,  1.2790666 ,  0.02203509,\n",
              "          1.5428121 ,  0.78953624]], dtype=float32)>,\n",
              " <tf.Tensor: shape=(3, 7), dtype=float32, numpy=\n",
              " array([[ 0.495291  , -0.648484  , -1.8700892 ,  2.7830641 , -0.645002  ,\n",
              "          0.18022095, -0.14656258],\n",
              "        [ 0.34374258,  0.41367555,  0.17573498, -1.0871261 ,  0.45905176,\n",
              "          0.20386009,  0.562024  ],\n",
              "        [-2.3001142 , -1.349454  ,  0.81485   ,  1.2790666 ,  0.02203509,\n",
              "          1.5428121 ,  0.78953624]], dtype=float32)>,\n",
              " <tf.Tensor: shape=(3, 7), dtype=bool, numpy=\n",
              " array([[ True,  True,  True,  True,  True,  True,  True],\n",
              "        [ True,  True,  True,  True,  True,  True,  True],\n",
              "        [ True,  True,  True,  True,  True,  True,  True]])>)"
            ]
          },
          "metadata": {},
          "execution_count": 17
        }
      ]
    },
    {
      "cell_type": "code",
      "source": [
        "tf.math.reduce_all(tf.equal(random_1, random_2))"
      ],
      "metadata": {
        "colab": {
          "base_uri": "https://localhost:8080/"
        },
        "id": "JXnKZkOsW6a3",
        "outputId": "f0b46d51-26ec-4b45-e2c0-8a1980564b1d"
      },
      "execution_count": 18,
      "outputs": [
        {
          "output_type": "execute_result",
          "data": {
            "text/plain": [
              "<tf.Tensor: shape=(), dtype=bool, numpy=True>"
            ]
          },
          "metadata": {},
          "execution_count": 18
        }
      ]
    },
    {
      "cell_type": "markdown",
      "source": [
        "### Shuffling the order of elements in tensors"
      ],
      "metadata": {
        "id": "etvTVI-EYK8o"
      }
    },
    {
      "cell_type": "code",
      "source": [
        "not_shuffled = tf.constant([[1, 4], [2, 3], [6, 9]])\n",
        "not_shuffled.ndim"
      ],
      "metadata": {
        "colab": {
          "base_uri": "https://localhost:8080/"
        },
        "id": "G2-t70thY33b",
        "outputId": "48ae3c1a-f0e4-48ea-e401-0687bbef5217"
      },
      "execution_count": 19,
      "outputs": [
        {
          "output_type": "execute_result",
          "data": {
            "text/plain": [
              "2"
            ]
          },
          "metadata": {},
          "execution_count": 19
        }
      ]
    },
    {
      "cell_type": "code",
      "source": [
        "shuffled = tf.random.shuffle(not_shuffled)\n",
        "shuffled"
      ],
      "metadata": {
        "colab": {
          "base_uri": "https://localhost:8080/"
        },
        "id": "_THnhkzcZeCG",
        "outputId": "7d95fa79-bbdb-4ee1-948d-b2fd01d081fa"
      },
      "execution_count": 20,
      "outputs": [
        {
          "output_type": "execute_result",
          "data": {
            "text/plain": [
              "<tf.Tensor: shape=(3, 2), dtype=int32, numpy=\n",
              "array([[6, 9],\n",
              "       [1, 4],\n",
              "       [2, 3]], dtype=int32)>"
            ]
          },
          "metadata": {},
          "execution_count": 20
        }
      ]
    },
    {
      "cell_type": "markdown",
      "source": [
        "### 🛠 Create five random tensors and shuffle all of them"
      ],
      "metadata": {
        "id": "by7Aw930Z3A-"
      }
    },
    {
      "cell_type": "code",
      "source": [
        "first = tf.random.Generator.from_seed(45).uniform(shape=(4, 5))\n",
        "print(f'First tensor before shuffling : \\n{first}')\n",
        "first_shuffled = tf.random.shuffle(first)\n",
        "print(f'First tensor after shuffling : \\n{first_shuffled}')"
      ],
      "metadata": {
        "colab": {
          "base_uri": "https://localhost:8080/"
        },
        "id": "KyORrNlEberC",
        "outputId": "2e2586a2-1c82-4f18-a453-5f6266c38f1d"
      },
      "execution_count": 21,
      "outputs": [
        {
          "output_type": "stream",
          "name": "stdout",
          "text": [
            "First tensor before shuffling : \n",
            "[[0.86540747 0.8862978  0.27795732 0.8857763  0.2179842 ]\n",
            " [0.29115117 0.03953862 0.8136791  0.8139852  0.52180684]\n",
            " [0.12496924 0.5488483  0.7755773  0.6184403  0.24936223]\n",
            " [0.89341843 0.28422844 0.70332646 0.2622137  0.4432162 ]]\n",
            "First tensor after shuffling : \n",
            "[[0.12496924 0.5488483  0.7755773  0.6184403  0.24936223]\n",
            " [0.89341843 0.28422844 0.70332646 0.2622137  0.4432162 ]\n",
            " [0.29115117 0.03953862 0.8136791  0.8139852  0.52180684]\n",
            " [0.86540747 0.8862978  0.27795732 0.8857763  0.2179842 ]]\n"
          ]
        }
      ]
    },
    {
      "cell_type": "code",
      "source": [
        "second = tf.random.Generator.from_seed(50).normal(shape=(3, 7))\n",
        "print(f'Second tensor before shuffling : \\n{second}')\n",
        "second_shuffled = tf.random.shuffle(second)\n",
        "print(f'Second tensor after shuffling : \\n{second_shuffled}')"
      ],
      "metadata": {
        "colab": {
          "base_uri": "https://localhost:8080/"
        },
        "id": "tWlOZmiub_SH",
        "outputId": "2bc37fd9-6f92-4ed0-e921-1d8340577bcb"
      },
      "execution_count": 22,
      "outputs": [
        {
          "output_type": "stream",
          "name": "stdout",
          "text": [
            "Second tensor before shuffling : \n",
            "[[ 0.45331386  1.1487608  -1.2659091  -0.47450137  2.006022    0.28288034\n",
            "  -0.30288252]\n",
            " [-1.443651    1.0034493   0.20857747  0.35700995  1.0648885   1.2432485\n",
            "  -2.2173238 ]\n",
            " [ 0.18706243  0.6617961   0.01380118 -0.24827152  1.2111493  -0.7199124\n",
            "  -0.04082382]]\n",
            "Second tensor after shuffling : \n",
            "[[ 0.45331386  1.1487608  -1.2659091  -0.47450137  2.006022    0.28288034\n",
            "  -0.30288252]\n",
            " [ 0.18706243  0.6617961   0.01380118 -0.24827152  1.2111493  -0.7199124\n",
            "  -0.04082382]\n",
            " [-1.443651    1.0034493   0.20857747  0.35700995  1.0648885   1.2432485\n",
            "  -2.2173238 ]]\n"
          ]
        }
      ]
    },
    {
      "cell_type": "code",
      "source": [
        "third = tf.random.Generator.from_seed(16).normal(shape=(4, 2))\n",
        "print(f'Third tensor before shuffling : \\n{third}')\n",
        "third_shuffled = tf.random.shuffle(third)\n",
        "print(f'Third tensor after shuffling : \\n{third_shuffled}')"
      ],
      "metadata": {
        "colab": {
          "base_uri": "https://localhost:8080/"
        },
        "id": "BHj_hpmncyW-",
        "outputId": "85f5a1e3-6a96-4713-b770-0f93b96eddfe"
      },
      "execution_count": 23,
      "outputs": [
        {
          "output_type": "stream",
          "name": "stdout",
          "text": [
            "Third tensor before shuffling : \n",
            "[[-0.63509274  0.3703566 ]\n",
            " [-1.0939722  -0.4601445 ]\n",
            " [ 1.5420506  -0.16822556]\n",
            " [-0.4390865  -0.4129243 ]]\n",
            "Third tensor after shuffling : \n",
            "[[-0.63509274  0.3703566 ]\n",
            " [-0.4390865  -0.4129243 ]\n",
            " [-1.0939722  -0.4601445 ]\n",
            " [ 1.5420506  -0.16822556]]\n"
          ]
        }
      ]
    },
    {
      "cell_type": "code",
      "source": [
        "forth = tf.random.Generator.from_seed(10).normal(shape=(3, 9))\n",
        "print(f'Forth tensor before shuffling : \\n{forth}')\n",
        "forth_shuffled = tf.random.shuffle(forth)\n",
        "print(f'Forth tensor after shuffling : \\n{forth_shuffled}')"
      ],
      "metadata": {
        "colab": {
          "base_uri": "https://localhost:8080/"
        },
        "id": "WI0RZGr_dH1X",
        "outputId": "63362efe-b9fc-4a78-b96b-684d458266d1"
      },
      "execution_count": 24,
      "outputs": [
        {
          "output_type": "stream",
          "name": "stdout",
          "text": [
            "Forth tensor before shuffling : \n",
            "[[-0.29604465 -0.21134205  0.01063002  1.5165398   0.27305737 -0.29925638\n",
            "  -0.3652325   0.61883307 -1.0130816 ]\n",
            " [ 0.28291714  1.2132233   0.46988967  0.37944323 -0.6664026   0.6054596\n",
            "   0.19181173  0.8045827   0.4769051 ]\n",
            " [-0.7812124  -0.996891    0.33149973 -0.5445254   1.5222508   0.59303206\n",
            "  -0.63509274  0.3703566  -1.0939722 ]]\n",
            "Forth tensor after shuffling : \n",
            "[[-0.29604465 -0.21134205  0.01063002  1.5165398   0.27305737 -0.29925638\n",
            "  -0.3652325   0.61883307 -1.0130816 ]\n",
            " [-0.7812124  -0.996891    0.33149973 -0.5445254   1.5222508   0.59303206\n",
            "  -0.63509274  0.3703566  -1.0939722 ]\n",
            " [ 0.28291714  1.2132233   0.46988967  0.37944323 -0.6664026   0.6054596\n",
            "   0.19181173  0.8045827   0.4769051 ]]\n"
          ]
        }
      ]
    },
    {
      "cell_type": "code",
      "source": [
        "fifth = tf.random.Generator.from_seed(78).normal(shape=(11, 4))\n",
        "print(f'Fifth tensor before shuffling : \\n{fifth}')\n",
        "fifth_shuffled = tf.random.shuffle(fifth)\n",
        "print(f'Fifth tensor after shuffling : \\n{fifth_shuffled}')"
      ],
      "metadata": {
        "colab": {
          "base_uri": "https://localhost:8080/"
        },
        "id": "NIzihbfAdZXE",
        "outputId": "4d90b228-1039-4ffa-dd6d-7bb63b758ae3"
      },
      "execution_count": 25,
      "outputs": [
        {
          "output_type": "stream",
          "name": "stdout",
          "text": [
            "Fifth tensor before shuffling : \n",
            "[[-1.4084325  -1.8613014   1.0928144  -0.29996362]\n",
            " [-0.7382552   1.2053189  -0.3511434   0.13897082]\n",
            " [ 0.32744762 -0.3579723   1.230323   -0.13087   ]\n",
            " [-0.44519424  0.9551449   0.24270573 -0.02293015]\n",
            " [-0.97063404 -0.7102746   0.4939478   2.1883757 ]\n",
            " [-0.4953925  -0.7584407   0.13736533 -0.44198883]\n",
            " [-0.65641224 -2.286797    0.07126775  2.3546813 ]\n",
            " [ 2.2539537  -0.8510308   0.8119971   2.0856276 ]\n",
            " [ 0.45117483 -0.90232193 -1.5350152   0.18753827]\n",
            " [ 0.01724745  1.071573    0.32903498 -0.12147247]\n",
            " [-0.81168556  1.0684562   0.03192343  0.37305453]]\n",
            "Fifth tensor after shuffling : \n",
            "[[ 0.01724745  1.071573    0.32903498 -0.12147247]\n",
            " [ 0.32744762 -0.3579723   1.230323   -0.13087   ]\n",
            " [ 0.45117483 -0.90232193 -1.5350152   0.18753827]\n",
            " [-0.44519424  0.9551449   0.24270573 -0.02293015]\n",
            " [-0.97063404 -0.7102746   0.4939478   2.1883757 ]\n",
            " [-0.4953925  -0.7584407   0.13736533 -0.44198883]\n",
            " [-1.4084325  -1.8613014   1.0928144  -0.29996362]\n",
            " [-0.81168556  1.0684562   0.03192343  0.37305453]\n",
            " [-0.7382552   1.2053189  -0.3511434   0.13897082]\n",
            " [-0.65641224 -2.286797    0.07126775  2.3546813 ]\n",
            " [ 2.2539537  -0.8510308   0.8119971   2.0856276 ]]\n"
          ]
        }
      ]
    },
    {
      "cell_type": "markdown",
      "source": [
        "### Creating tensors from NumPy arrays"
      ],
      "metadata": {
        "id": "vARkR2The3pU"
      }
    },
    {
      "cell_type": "code",
      "source": [
        "import numpy as np\n",
        "array = np.array([[1,2,3],[3,4,5],[5,6,7]])\n",
        "tensor = tf.convert_to_tensor(array)\n",
        "print(f'NumPy array : \\n{array}')\n",
        "print(f'Tensor : \\n{tensor}')"
      ],
      "metadata": {
        "colab": {
          "base_uri": "https://localhost:8080/"
        },
        "id": "N1wVSHN5e9dW",
        "outputId": "b22778a9-f1c1-4a31-d5e6-8eb4504b6e20"
      },
      "execution_count": 26,
      "outputs": [
        {
          "output_type": "stream",
          "name": "stdout",
          "text": [
            "NumPy array : \n",
            "[[1 2 3]\n",
            " [3 4 5]\n",
            " [5 6 7]]\n",
            "Tensor : \n",
            "[[1 2 3]\n",
            " [3 4 5]\n",
            " [5 6 7]]\n"
          ]
        }
      ]
    },
    {
      "cell_type": "code",
      "source": [
        "tensor"
      ],
      "metadata": {
        "colab": {
          "base_uri": "https://localhost:8080/"
        },
        "id": "W5P3EU0_AueI",
        "outputId": "251473da-af0f-42fd-bf74-3ccba03f362f"
      },
      "execution_count": 27,
      "outputs": [
        {
          "output_type": "execute_result",
          "data": {
            "text/plain": [
              "<tf.Tensor: shape=(3, 3), dtype=int64, numpy=\n",
              "array([[1, 2, 3],\n",
              "       [3, 4, 5],\n",
              "       [5, 6, 7]])>"
            ]
          },
          "metadata": {},
          "execution_count": 27
        }
      ]
    },
    {
      "cell_type": "markdown",
      "source": [
        "### Other ways to make tensor"
      ],
      "metadata": {
        "id": "z3_g3ke1AyNP"
      }
    },
    {
      "cell_type": "code",
      "source": [
        "tf.ones([2, 3])"
      ],
      "metadata": {
        "colab": {
          "base_uri": "https://localhost:8080/"
        },
        "id": "Ao7GXJQ2A5sG",
        "outputId": "350e9f51-fda8-4235-bc0f-b6d34a7c0978"
      },
      "execution_count": 28,
      "outputs": [
        {
          "output_type": "execute_result",
          "data": {
            "text/plain": [
              "<tf.Tensor: shape=(2, 3), dtype=float32, numpy=\n",
              "array([[1., 1., 1.],\n",
              "       [1., 1., 1.]], dtype=float32)>"
            ]
          },
          "metadata": {},
          "execution_count": 28
        }
      ]
    },
    {
      "cell_type": "code",
      "source": [
        "tf.ones((1, 5))"
      ],
      "metadata": {
        "colab": {
          "base_uri": "https://localhost:8080/"
        },
        "id": "a4_ZnRzzA8B8",
        "outputId": "11a2b747-bd3b-4955-c05d-a71b7abd960f"
      },
      "execution_count": 29,
      "outputs": [
        {
          "output_type": "execute_result",
          "data": {
            "text/plain": [
              "<tf.Tensor: shape=(1, 5), dtype=float32, numpy=array([[1., 1., 1., 1., 1.]], dtype=float32)>"
            ]
          },
          "metadata": {},
          "execution_count": 29
        }
      ]
    },
    {
      "cell_type": "code",
      "source": [
        "tf.eye(3)"
      ],
      "metadata": {
        "colab": {
          "base_uri": "https://localhost:8080/"
        },
        "id": "upXFUA1cA_hh",
        "outputId": "b0d344cc-cd40-45d3-d888-a4af8784e0c2"
      },
      "execution_count": 30,
      "outputs": [
        {
          "output_type": "execute_result",
          "data": {
            "text/plain": [
              "<tf.Tensor: shape=(3, 3), dtype=float32, numpy=\n",
              "array([[1., 0., 0.],\n",
              "       [0., 1., 0.],\n",
              "       [0., 0., 1.]], dtype=float32)>"
            ]
          },
          "metadata": {},
          "execution_count": 30
        }
      ]
    },
    {
      "cell_type": "code",
      "source": [
        "tf.zeros((4, 6))"
      ],
      "metadata": {
        "colab": {
          "base_uri": "https://localhost:8080/"
        },
        "id": "aH08ZvFbBL5W",
        "outputId": "b8c0d12d-218f-4d23-d80c-d1a2c6e41380"
      },
      "execution_count": 31,
      "outputs": [
        {
          "output_type": "execute_result",
          "data": {
            "text/plain": [
              "<tf.Tensor: shape=(4, 6), dtype=float32, numpy=\n",
              "array([[0., 0., 0., 0., 0., 0.],\n",
              "       [0., 0., 0., 0., 0., 0.],\n",
              "       [0., 0., 0., 0., 0., 0.],\n",
              "       [0., 0., 0., 0., 0., 0.]], dtype=float32)>"
            ]
          },
          "metadata": {},
          "execution_count": 31
        }
      ]
    },
    {
      "cell_type": "markdown",
      "source": [
        "## Getting more information from your tensors (tensor attributes)"
      ],
      "metadata": {
        "id": "w2eUIu0FBRKl"
      }
    },
    {
      "cell_type": "markdown",
      "source": [
        "<style>\n",
        "\t.demo {\n",
        "\t\twidth:100%;\n",
        "\t\theight:100%;\n",
        "\t\tborder:1px solid #C0C0C0;\n",
        "\t\tborder-collapse:collapse;\n",
        "\t\tpadding:5px;\n",
        "\t}\n",
        "\t.demo th {\n",
        "\t\tborder:1px solid #C0C0C0;\n",
        "\t\tpadding:5px;\n",
        "\t\tbackground:#F0F0F0;\n",
        "\t}\n",
        "\t.demo td {\n",
        "\t\tborder:1px solid #C0C0C0;\n",
        "\t\tpadding:5px;\n",
        "\t}\n",
        "</style>\n",
        "<table class=\"demo\">\n",
        "\t<caption><br></caption>\n",
        "\t<thead>\n",
        "\t<tr>\n",
        "\t\t<th>Attribute</th>\n",
        "\t\t<th>Meaning</th>\n",
        "\t\t<th>Code</th>\n",
        "\t</tr>\n",
        "\t</thead>\n",
        "\t<tbody>\n",
        "\t<tr>\n",
        "\t\t<td>&nbsp;Shape</td>\n",
        "\t\t<td>&nbsp;The length of each of the elements of the tensor</td>\n",
        "\t\t<td>&nbsp;tensor.shape</td>\n",
        "\t</tr>\n",
        "\t<tr>\n",
        "\t\t<td>&nbsp;Rank</td>\n",
        "\t\t<td>&nbsp;The number of tensor dimensions.</td>\n",
        "\t\t<td>&nbsp;tensor.ndim</td>\n",
        "\t</tr>\n",
        "\t<tr>\n",
        "\t\t<td>&nbsp;Axis or Dimension</td>\n",
        "\t\t<td>&nbsp;A particular dimension of a tensor.</td>\n",
        "\t\t<td>&nbsp;tensor[0], tensor[:,&nbsp; 1]</td>\n",
        "\t</tr>\n",
        "\t<tr>\n",
        "\t\t<td>&nbsp;Size</td>\n",
        "\t\t<td>&nbsp;The total number of items in the tensor</td>\n",
        "\t\t<td>&nbsp;tf.size(tensor)</td>\n",
        "\t</tr>\n",
        "\t</tbody>\n",
        "</table>"
      ],
      "metadata": {
        "id": "NHrwomxzCPEu"
      }
    },
    {
      "cell_type": "code",
      "source": [
        "zeros = tf.zeros([2, 4, 3, 5])\n",
        "zeros"
      ],
      "metadata": {
        "colab": {
          "base_uri": "https://localhost:8080/"
        },
        "id": "g5jANXSFnHeP",
        "outputId": "650306f9-8d8f-4cba-9f8e-0e071d0864ac"
      },
      "execution_count": 32,
      "outputs": [
        {
          "output_type": "execute_result",
          "data": {
            "text/plain": [
              "<tf.Tensor: shape=(2, 4, 3, 5), dtype=float32, numpy=\n",
              "array([[[[0., 0., 0., 0., 0.],\n",
              "         [0., 0., 0., 0., 0.],\n",
              "         [0., 0., 0., 0., 0.]],\n",
              "\n",
              "        [[0., 0., 0., 0., 0.],\n",
              "         [0., 0., 0., 0., 0.],\n",
              "         [0., 0., 0., 0., 0.]],\n",
              "\n",
              "        [[0., 0., 0., 0., 0.],\n",
              "         [0., 0., 0., 0., 0.],\n",
              "         [0., 0., 0., 0., 0.]],\n",
              "\n",
              "        [[0., 0., 0., 0., 0.],\n",
              "         [0., 0., 0., 0., 0.],\n",
              "         [0., 0., 0., 0., 0.]]],\n",
              "\n",
              "\n",
              "       [[[0., 0., 0., 0., 0.],\n",
              "         [0., 0., 0., 0., 0.],\n",
              "         [0., 0., 0., 0., 0.]],\n",
              "\n",
              "        [[0., 0., 0., 0., 0.],\n",
              "         [0., 0., 0., 0., 0.],\n",
              "         [0., 0., 0., 0., 0.]],\n",
              "\n",
              "        [[0., 0., 0., 0., 0.],\n",
              "         [0., 0., 0., 0., 0.],\n",
              "         [0., 0., 0., 0., 0.]],\n",
              "\n",
              "        [[0., 0., 0., 0., 0.],\n",
              "         [0., 0., 0., 0., 0.],\n",
              "         [0., 0., 0., 0., 0.]]]], dtype=float32)>"
            ]
          },
          "metadata": {},
          "execution_count": 32
        }
      ]
    },
    {
      "cell_type": "code",
      "source": [
        "zeros.shape"
      ],
      "metadata": {
        "colab": {
          "base_uri": "https://localhost:8080/"
        },
        "id": "yziCbd7PvsEH",
        "outputId": "8fe06f49-6783-4d0b-d358-0c914f61ece1"
      },
      "execution_count": 33,
      "outputs": [
        {
          "output_type": "execute_result",
          "data": {
            "text/plain": [
              "TensorShape([2, 4, 3, 5])"
            ]
          },
          "metadata": {},
          "execution_count": 33
        }
      ]
    },
    {
      "cell_type": "code",
      "source": [
        "zeros.ndim"
      ],
      "metadata": {
        "colab": {
          "base_uri": "https://localhost:8080/"
        },
        "id": "x2vndo7ov2Qi",
        "outputId": "f6da26e6-bae8-4ee1-8f1f-ac24c8862ca9"
      },
      "execution_count": 34,
      "outputs": [
        {
          "output_type": "execute_result",
          "data": {
            "text/plain": [
              "4"
            ]
          },
          "metadata": {},
          "execution_count": 34
        }
      ]
    },
    {
      "cell_type": "code",
      "source": [
        "tf.size(zeros)"
      ],
      "metadata": {
        "colab": {
          "base_uri": "https://localhost:8080/"
        },
        "id": "Gnq8dxvzv3UK",
        "outputId": "a63f89cb-bde5-4899-c31d-6944e5ae676d"
      },
      "execution_count": 35,
      "outputs": [
        {
          "output_type": "execute_result",
          "data": {
            "text/plain": [
              "<tf.Tensor: shape=(), dtype=int32, numpy=120>"
            ]
          },
          "metadata": {},
          "execution_count": 35
        }
      ]
    }
  ]
}