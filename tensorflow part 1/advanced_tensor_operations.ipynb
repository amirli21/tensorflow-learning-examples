{
  "nbformat": 4,
  "nbformat_minor": 0,
  "metadata": {
    "colab": {
      "name": "advanced_tensor_operations",
      "provenance": [],
      "collapsed_sections": []
    },
    "kernelspec": {
      "name": "python3",
      "display_name": "Python 3"
    },
    "language_info": {
      "name": "python"
    }
  },
  "cells": [
    {
      "cell_type": "markdown",
      "source": [
        "# Advanced Tensors"
      ],
      "metadata": {
        "id": "hHcqziNky3y3"
      }
    },
    {
      "cell_type": "markdown",
      "source": [
        "### Indexing Tensors"
      ],
      "metadata": {
        "id": "M9ybBZOLziZW"
      }
    },
    {
      "cell_type": "markdown",
      "source": [
        "- Tensors can be indexed just like Python lists"
      ],
      "metadata": {
        "id": "qBWDRvNszUjV"
      }
    },
    {
      "cell_type": "code",
      "source": [
        "import tensorflow as tf\n",
        "\n",
        "\n",
        "rank_4_tensor = tf.zeros([2, 3, 4, 6])\n",
        "# Get the first 2 elements of each dimension\n",
        "result = rank_4_tensor[:2, :2, :2, :2]\n",
        "result"
      ],
      "metadata": {
        "colab": {
          "base_uri": "https://localhost:8080/"
        },
        "id": "fMhJy_OdzeU5",
        "outputId": "66a115c2-08e7-4272-ac20-d5adad130967"
      },
      "execution_count": 1,
      "outputs": [
        {
          "output_type": "execute_result",
          "data": {
            "text/plain": [
              "<tf.Tensor: shape=(2, 2, 2, 2), dtype=float32, numpy=\n",
              "array([[[[0., 0.],\n",
              "         [0., 0.]],\n",
              "\n",
              "        [[0., 0.],\n",
              "         [0., 0.]]],\n",
              "\n",
              "\n",
              "       [[[0., 0.],\n",
              "         [0., 0.]],\n",
              "\n",
              "        [[0., 0.],\n",
              "         [0., 0.]]]], dtype=float32)>"
            ]
          },
          "metadata": {},
          "execution_count": 1
        }
      ]
    },
    {
      "cell_type": "code",
      "source": [
        "# Get first element from each dimension from each index except for the final one\n",
        "result = rank_4_tensor[:1, :1, :1, :]\n",
        "result"
      ],
      "metadata": {
        "colab": {
          "base_uri": "https://localhost:8080/"
        },
        "id": "ycFhsk8Lz6AI",
        "outputId": "b398f30e-a561-4d51-a4dd-8732115cb296"
      },
      "execution_count": 2,
      "outputs": [
        {
          "output_type": "execute_result",
          "data": {
            "text/plain": [
              "<tf.Tensor: shape=(1, 1, 1, 6), dtype=float32, numpy=array([[[[0., 0., 0., 0., 0., 0.]]]], dtype=float32)>"
            ]
          },
          "metadata": {},
          "execution_count": 2
        }
      ]
    },
    {
      "cell_type": "code",
      "source": [
        "rank_2_tensor = tf.constant([[10, 5],\n",
        "                             [2, 6]])"
      ],
      "metadata": {
        "id": "ni7O8PPw0cGz"
      },
      "execution_count": 3,
      "outputs": []
    },
    {
      "cell_type": "markdown",
      "source": [
        "### Extending tensors"
      ],
      "metadata": {
        "id": "8P0JsJsC1xDx"
      }
    },
    {
      "cell_type": "code",
      "source": [
        "rank_3_tensor = rank_2_tensor[..., tf.newaxis]"
      ],
      "metadata": {
        "id": "YkTtkMfj11hO"
      },
      "execution_count": 4,
      "outputs": []
    },
    {
      "cell_type": "code",
      "source": [
        "rank_3_tensor"
      ],
      "metadata": {
        "colab": {
          "base_uri": "https://localhost:8080/"
        },
        "id": "tb_LhXJS1_iz",
        "outputId": "12159687-174c-4a0f-9631-577370470258"
      },
      "execution_count": 5,
      "outputs": [
        {
          "output_type": "execute_result",
          "data": {
            "text/plain": [
              "<tf.Tensor: shape=(2, 2, 1), dtype=int32, numpy=\n",
              "array([[[10],\n",
              "        [ 5]],\n",
              "\n",
              "       [[ 2],\n",
              "        [ 6]]], dtype=int32)>"
            ]
          },
          "metadata": {},
          "execution_count": 5
        }
      ]
    },
    {
      "cell_type": "code",
      "source": [
        "new_rank_3_tensor = rank_2_tensor[tf.newaxis, ...]"
      ],
      "metadata": {
        "id": "XAN4hbxk2BIi"
      },
      "execution_count": 6,
      "outputs": []
    },
    {
      "cell_type": "code",
      "source": [
        "new_rank_3_tensor"
      ],
      "metadata": {
        "colab": {
          "base_uri": "https://localhost:8080/"
        },
        "id": "BsOPHXLT2KM_",
        "outputId": "db083dde-8dac-43da-c4d0-8e65c01f7aa9"
      },
      "execution_count": 7,
      "outputs": [
        {
          "output_type": "execute_result",
          "data": {
            "text/plain": [
              "<tf.Tensor: shape=(1, 2, 2), dtype=int32, numpy=\n",
              "array([[[10,  5],\n",
              "        [ 2,  6]]], dtype=int32)>"
            ]
          },
          "metadata": {},
          "execution_count": 7
        }
      ]
    },
    {
      "cell_type": "code",
      "source": [
        "new_tensor = tf.expand_dims(rank_4_tensor, axis=2)"
      ],
      "metadata": {
        "id": "CVMD7T2l2Md-"
      },
      "execution_count": 8,
      "outputs": []
    },
    {
      "cell_type": "code",
      "source": [
        "new_tensor"
      ],
      "metadata": {
        "colab": {
          "base_uri": "https://localhost:8080/"
        },
        "id": "8JjOl7-B2YMO",
        "outputId": "a1359566-938d-47de-a02b-9ff5188a3ddd"
      },
      "execution_count": 9,
      "outputs": [
        {
          "output_type": "execute_result",
          "data": {
            "text/plain": [
              "<tf.Tensor: shape=(2, 3, 1, 4, 6), dtype=float32, numpy=\n",
              "array([[[[[0., 0., 0., 0., 0., 0.],\n",
              "          [0., 0., 0., 0., 0., 0.],\n",
              "          [0., 0., 0., 0., 0., 0.],\n",
              "          [0., 0., 0., 0., 0., 0.]]],\n",
              "\n",
              "\n",
              "        [[[0., 0., 0., 0., 0., 0.],\n",
              "          [0., 0., 0., 0., 0., 0.],\n",
              "          [0., 0., 0., 0., 0., 0.],\n",
              "          [0., 0., 0., 0., 0., 0.]]],\n",
              "\n",
              "\n",
              "        [[[0., 0., 0., 0., 0., 0.],\n",
              "          [0., 0., 0., 0., 0., 0.],\n",
              "          [0., 0., 0., 0., 0., 0.],\n",
              "          [0., 0., 0., 0., 0., 0.]]]],\n",
              "\n",
              "\n",
              "\n",
              "       [[[[0., 0., 0., 0., 0., 0.],\n",
              "          [0., 0., 0., 0., 0., 0.],\n",
              "          [0., 0., 0., 0., 0., 0.],\n",
              "          [0., 0., 0., 0., 0., 0.]]],\n",
              "\n",
              "\n",
              "        [[[0., 0., 0., 0., 0., 0.],\n",
              "          [0., 0., 0., 0., 0., 0.],\n",
              "          [0., 0., 0., 0., 0., 0.],\n",
              "          [0., 0., 0., 0., 0., 0.]]],\n",
              "\n",
              "\n",
              "        [[[0., 0., 0., 0., 0., 0.],\n",
              "          [0., 0., 0., 0., 0., 0.],\n",
              "          [0., 0., 0., 0., 0., 0.],\n",
              "          [0., 0., 0., 0., 0., 0.]]]]], dtype=float32)>"
            ]
          },
          "metadata": {},
          "execution_count": 9
        }
      ]
    },
    {
      "cell_type": "markdown",
      "source": [
        "# Manipulating Tensors(Tensor operations)"
      ],
      "metadata": {
        "id": "k6grIR0h2ZEx"
      }
    },
    {
      "cell_type": "markdown",
      "source": [
        "**Basic operations**<br>\n",
        "`+`, `-`, `*`, `/`"
      ],
      "metadata": {
        "id": "_rYg1qof20r6"
      }
    },
    {
      "cell_type": "code",
      "source": [
        "tensor = tf.constant([[24, 12], [11, 3]])\n",
        "tensor + 10"
      ],
      "metadata": {
        "colab": {
          "base_uri": "https://localhost:8080/"
        },
        "id": "iZlZlxuH2_mx",
        "outputId": "b5c6413c-6496-41d7-984e-9841a246c692"
      },
      "execution_count": 10,
      "outputs": [
        {
          "output_type": "execute_result",
          "data": {
            "text/plain": [
              "<tf.Tensor: shape=(2, 2), dtype=int32, numpy=\n",
              "array([[34, 22],\n",
              "       [21, 13]], dtype=int32)>"
            ]
          },
          "metadata": {},
          "execution_count": 10
        }
      ]
    },
    {
      "cell_type": "code",
      "source": [
        "# all other operations work tensorwise\n",
        "# We can use tensorflow builtin functions\n",
        "\n",
        "tf.multiply(tensor, 10)"
      ],
      "metadata": {
        "id": "NVoUzaEi3SnY",
        "colab": {
          "base_uri": "https://localhost:8080/"
        },
        "outputId": "7153d8da-2ff4-4976-db9a-ed4b8851e91a"
      },
      "execution_count": 11,
      "outputs": [
        {
          "output_type": "execute_result",
          "data": {
            "text/plain": [
              "<tf.Tensor: shape=(2, 2), dtype=int32, numpy=\n",
              "array([[240, 120],\n",
              "       [110,  30]], dtype=int32)>"
            ]
          },
          "metadata": {},
          "execution_count": 11
        }
      ]
    },
    {
      "cell_type": "code",
      "source": [
        "tf.add(tensor, 3)"
      ],
      "metadata": {
        "colab": {
          "base_uri": "https://localhost:8080/"
        },
        "id": "Aoj_Nw9Xul0t",
        "outputId": "aa715989-7044-40e5-f95d-5ca7cb7b18e1"
      },
      "execution_count": 12,
      "outputs": [
        {
          "output_type": "execute_result",
          "data": {
            "text/plain": [
              "<tf.Tensor: shape=(2, 2), dtype=int32, numpy=\n",
              "array([[27, 15],\n",
              "       [14,  6]], dtype=int32)>"
            ]
          },
          "metadata": {},
          "execution_count": 12
        }
      ]
    },
    {
      "cell_type": "markdown",
      "source": [
        "### Matrix Multiplication"
      ],
      "metadata": {
        "id": "jtKU87OsuotE"
      }
    },
    {
      "cell_type": "code",
      "source": [
        "print(tensor)"
      ],
      "metadata": {
        "colab": {
          "base_uri": "https://localhost:8080/"
        },
        "id": "1SDje4ttvY8p",
        "outputId": "65918820-4490-40ab-fcf1-651163898704"
      },
      "execution_count": 13,
      "outputs": [
        {
          "output_type": "stream",
          "name": "stdout",
          "text": [
            "tf.Tensor(\n",
            "[[24 12]\n",
            " [11  3]], shape=(2, 2), dtype=int32)\n"
          ]
        }
      ]
    },
    {
      "cell_type": "code",
      "source": [
        "tf.matmul(tensor, tensor)"
      ],
      "metadata": {
        "colab": {
          "base_uri": "https://localhost:8080/"
        },
        "id": "xGxfxopHwO9U",
        "outputId": "d23f857d-c1d3-4547-c1a0-33aa58cf02d6"
      },
      "execution_count": 14,
      "outputs": [
        {
          "output_type": "execute_result",
          "data": {
            "text/plain": [
              "<tf.Tensor: shape=(2, 2), dtype=int32, numpy=\n",
              "array([[708, 324],\n",
              "       [297, 141]], dtype=int32)>"
            ]
          },
          "metadata": {},
          "execution_count": 14
        }
      ]
    },
    {
      "cell_type": "code",
      "source": [
        "tensor*tensor"
      ],
      "metadata": {
        "colab": {
          "base_uri": "https://localhost:8080/"
        },
        "id": "lUUOSqTvwSCO",
        "outputId": "282511f2-ade1-4f6c-fdc2-478ac286837e"
      },
      "execution_count": 15,
      "outputs": [
        {
          "output_type": "execute_result",
          "data": {
            "text/plain": [
              "<tf.Tensor: shape=(2, 2), dtype=int32, numpy=\n",
              "array([[576, 144],\n",
              "       [121,   9]], dtype=int32)>"
            ]
          },
          "metadata": {},
          "execution_count": 15
        }
      ]
    },
    {
      "cell_type": "code",
      "source": [
        "tensor**tensor # outputs weird numbers, because it's 32bit integers"
      ],
      "metadata": {
        "colab": {
          "base_uri": "https://localhost:8080/"
        },
        "id": "kJFzDDjXwUzt",
        "outputId": "385f0cbd-0516-4e23-df77-4c07d921f999"
      },
      "execution_count": 16,
      "outputs": [
        {
          "output_type": "execute_result",
          "data": {
            "text/plain": [
              "<tf.Tensor: shape=(2, 2), dtype=int32, numpy=\n",
              "array([[         0, -251658240],\n",
              "       [1843829075,         27]], dtype=int32)>"
            ]
          },
          "metadata": {},
          "execution_count": 16
        }
      ]
    },
    {
      "cell_type": "code",
      "source": [
        "tensor@tensor # matrix multiplication using python"
      ],
      "metadata": {
        "colab": {
          "base_uri": "https://localhost:8080/"
        },
        "id": "WfrQoPAkwXMQ",
        "outputId": "c0724973-f0fe-47af-e4e8-dd4d35e5a146"
      },
      "execution_count": 17,
      "outputs": [
        {
          "output_type": "execute_result",
          "data": {
            "text/plain": [
              "<tf.Tensor: shape=(2, 2), dtype=int32, numpy=\n",
              "array([[708, 324],\n",
              "       [297, 141]], dtype=int32)>"
            ]
          },
          "metadata": {},
          "execution_count": 17
        }
      ]
    },
    {
      "cell_type": "markdown",
      "source": [
        "### Dot product\n",
        "\n",
        " Different kinds of matrix multiplication\n",
        "* `tf.matmul()`\n",
        "* `tf.tensordot()`\n",
        "\n"
      ],
      "metadata": {
        "id": "HloIETNnwkSy"
      }
    },
    {
      "cell_type": "code",
      "source": [
        "X = tf.constant([[1, 2], [3, 4], [5, 6]])\n",
        "Y = tf.constant([[7, 8], [9, 10], [11, 12]])"
      ],
      "metadata": {
        "id": "Y9Qp5UoW0tmf"
      },
      "execution_count": 18,
      "outputs": []
    },
    {
      "cell_type": "code",
      "source": [
        "tf.tensordot(tf.transpose(X), Y, axes=1)"
      ],
      "metadata": {
        "colab": {
          "base_uri": "https://localhost:8080/"
        },
        "id": "R2i2_0es1Iof",
        "outputId": "0bbbfde1-0786-4673-dd0c-f12ad6cd4e0c"
      },
      "execution_count": 19,
      "outputs": [
        {
          "output_type": "execute_result",
          "data": {
            "text/plain": [
              "<tf.Tensor: shape=(2, 2), dtype=int32, numpy=\n",
              "array([[ 89,  98],\n",
              "       [116, 128]], dtype=int32)>"
            ]
          },
          "metadata": {},
          "execution_count": 19
        }
      ]
    },
    {
      "cell_type": "code",
      "source": [
        "# Perform matrix multiplication b-ween X and Y (reshaped)\n",
        "\n",
        "tf.matmul(X, tf.reshape(Y, shape=(2, 3)))"
      ],
      "metadata": {
        "colab": {
          "base_uri": "https://localhost:8080/"
        },
        "id": "0G8NiPdn2hFK",
        "outputId": "b2eff1d1-3178-4688-85d9-7ecb0e9cdaf8"
      },
      "execution_count": 20,
      "outputs": [
        {
          "output_type": "execute_result",
          "data": {
            "text/plain": [
              "<tf.Tensor: shape=(3, 3), dtype=int32, numpy=\n",
              "array([[ 27,  30,  33],\n",
              "       [ 61,  68,  75],\n",
              "       [ 95, 106, 117]], dtype=int32)>"
            ]
          },
          "metadata": {},
          "execution_count": 20
        }
      ]
    },
    {
      "cell_type": "code",
      "source": [
        "tf.reshape(Y, shape=(2, 3))"
      ],
      "metadata": {
        "colab": {
          "base_uri": "https://localhost:8080/"
        },
        "id": "kwHCqaRE293N",
        "outputId": "88a7d6b5-43f9-466d-9c7b-746062f3853b"
      },
      "execution_count": 21,
      "outputs": [
        {
          "output_type": "execute_result",
          "data": {
            "text/plain": [
              "<tf.Tensor: shape=(2, 3), dtype=int32, numpy=\n",
              "array([[ 7,  8,  9],\n",
              "       [10, 11, 12]], dtype=int32)>"
            ]
          },
          "metadata": {},
          "execution_count": 21
        }
      ]
    },
    {
      "cell_type": "markdown",
      "source": [
        "### Changing the datatype of a Tensor"
      ],
      "metadata": {
        "id": "HxMMEpUd4Xj8"
      }
    },
    {
      "cell_type": "code",
      "source": [
        "B = tf.constant([.6, 1.3])\n",
        "B.dtype"
      ],
      "metadata": {
        "colab": {
          "base_uri": "https://localhost:8080/"
        },
        "id": "1e5gcKCA4tZQ",
        "outputId": "6c62cea3-4060-4153-91ef-32dd853fa4f3"
      },
      "execution_count": 22,
      "outputs": [
        {
          "output_type": "execute_result",
          "data": {
            "text/plain": [
              "tf.float32"
            ]
          },
          "metadata": {},
          "execution_count": 22
        }
      ]
    },
    {
      "cell_type": "markdown",
      "source": [
        "### Tensor aggregation"
      ],
      "metadata": {
        "id": "8RGWrSQc4xOp"
      }
    },
    {
      "cell_type": "code",
      "source": [
        "D = tf.constant([-4, -6])\n",
        "D"
      ],
      "metadata": {
        "colab": {
          "base_uri": "https://localhost:8080/"
        },
        "id": "vRfIbo1-5Sr0",
        "outputId": "e4fca567-0618-46b1-f5f6-e928f538d82e"
      },
      "execution_count": 23,
      "outputs": [
        {
          "output_type": "execute_result",
          "data": {
            "text/plain": [
              "<tf.Tensor: shape=(2,), dtype=int32, numpy=array([-4, -6], dtype=int32)>"
            ]
          },
          "metadata": {},
          "execution_count": 23
        }
      ]
    },
    {
      "cell_type": "code",
      "source": [
        "tf.abs(D)"
      ],
      "metadata": {
        "colab": {
          "base_uri": "https://localhost:8080/"
        },
        "id": "dCPDr8WO5v12",
        "outputId": "571ba916-0b4f-4433-bb60-de689993f8ad"
      },
      "execution_count": 24,
      "outputs": [
        {
          "output_type": "execute_result",
          "data": {
            "text/plain": [
              "<tf.Tensor: shape=(2,), dtype=int32, numpy=array([4, 6], dtype=int32)>"
            ]
          },
          "metadata": {},
          "execution_count": 24
        }
      ]
    },
    {
      "cell_type": "code",
      "source": [
        "import numpy as np\n",
        "\n",
        "E = tf.constant(np.random.randint(0, 100, size=50))\n",
        "tf.size(E), E.shape, E.ndim"
      ],
      "metadata": {
        "colab": {
          "base_uri": "https://localhost:8080/"
        },
        "id": "nXvJzC__5xFc",
        "outputId": "bd7e1612-94af-41a3-ac58-ec1dabaee5a0"
      },
      "execution_count": 25,
      "outputs": [
        {
          "output_type": "execute_result",
          "data": {
            "text/plain": [
              "(<tf.Tensor: shape=(), dtype=int32, numpy=50>, TensorShape([50]), 1)"
            ]
          },
          "metadata": {},
          "execution_count": 25
        }
      ]
    },
    {
      "cell_type": "code",
      "source": [
        "# Find the minimum\n",
        "E"
      ],
      "metadata": {
        "colab": {
          "base_uri": "https://localhost:8080/"
        },
        "id": "wHHtiy5X6HRw",
        "outputId": "334217cf-7893-4d1f-9974-aa172fe90c82"
      },
      "execution_count": 26,
      "outputs": [
        {
          "output_type": "execute_result",
          "data": {
            "text/plain": [
              "<tf.Tensor: shape=(50,), dtype=int64, numpy=\n",
              "array([43, 64, 40, 54, 65, 73, 82, 60, 64, 96, 82, 46, 45, 48, 87, 25,  5,\n",
              "       69, 60, 66,  8, 95, 60,  9,  6, 90, 57, 65, 97,  7, 67, 76, 65, 21,\n",
              "        5, 21, 91, 14, 97, 75, 22,  6, 20, 17, 21, 80,  4, 88,  2, 57])>"
            ]
          },
          "metadata": {},
          "execution_count": 26
        }
      ]
    },
    {
      "cell_type": "code",
      "source": [
        "tf.reduce_min(E)"
      ],
      "metadata": {
        "colab": {
          "base_uri": "https://localhost:8080/"
        },
        "id": "HvYX1P9K6Tlp",
        "outputId": "d4d0d18c-c2e5-4a36-bcba-d7ae4fa1bded"
      },
      "execution_count": 27,
      "outputs": [
        {
          "output_type": "execute_result",
          "data": {
            "text/plain": [
              "<tf.Tensor: shape=(), dtype=int64, numpy=2>"
            ]
          },
          "metadata": {},
          "execution_count": 27
        }
      ]
    },
    {
      "cell_type": "code",
      "source": [
        "tf.reduce_max(E)"
      ],
      "metadata": {
        "colab": {
          "base_uri": "https://localhost:8080/"
        },
        "id": "PMpN-N__6V72",
        "outputId": "f6871f17-b53d-4396-cc22-a21f99a45c66"
      },
      "execution_count": 28,
      "outputs": [
        {
          "output_type": "execute_result",
          "data": {
            "text/plain": [
              "<tf.Tensor: shape=(), dtype=int64, numpy=97>"
            ]
          },
          "metadata": {},
          "execution_count": 28
        }
      ]
    },
    {
      "cell_type": "code",
      "source": [
        "tf.reduce_mean(E)"
      ],
      "metadata": {
        "colab": {
          "base_uri": "https://localhost:8080/"
        },
        "id": "_u2_NOY_6aFO",
        "outputId": "12dca9d3-5d12-498e-9ba8-94ee110d3ac7"
      },
      "execution_count": 29,
      "outputs": [
        {
          "output_type": "execute_result",
          "data": {
            "text/plain": [
              "<tf.Tensor: shape=(), dtype=int64, numpy=50>"
            ]
          },
          "metadata": {},
          "execution_count": 29
        }
      ]
    },
    {
      "cell_type": "code",
      "source": [
        "tf.reduce_sum(E)"
      ],
      "metadata": {
        "colab": {
          "base_uri": "https://localhost:8080/"
        },
        "id": "DdScL8nK6ces",
        "outputId": "b98e6842-1abc-40b0-f33e-29689d8d90b4"
      },
      "execution_count": 30,
      "outputs": [
        {
          "output_type": "execute_result",
          "data": {
            "text/plain": [
              "<tf.Tensor: shape=(), dtype=int64, numpy=2517>"
            ]
          },
          "metadata": {},
          "execution_count": 30
        }
      ]
    },
    {
      "cell_type": "code",
      "source": [
        "tf.math.reduce_std(tf.cast(E, dtype=tf.float32))"
      ],
      "metadata": {
        "colab": {
          "base_uri": "https://localhost:8080/"
        },
        "id": "kIjZAmDD6eTw",
        "outputId": "b2c070ab-9299-410f-ab76-8fc3a1528d4e"
      },
      "execution_count": 31,
      "outputs": [
        {
          "output_type": "execute_result",
          "data": {
            "text/plain": [
              "<tf.Tensor: shape=(), dtype=float32, numpy=30.613468>"
            ]
          },
          "metadata": {},
          "execution_count": 31
        }
      ]
    },
    {
      "cell_type": "code",
      "source": [
        "import tensorflow_probability as tfp\n",
        "tfp.stats.variance(E)"
      ],
      "metadata": {
        "colab": {
          "base_uri": "https://localhost:8080/"
        },
        "id": "hkBRtyih6q_Y",
        "outputId": "069f410c-c359-4c19-f579-0e8478c6edf0"
      },
      "execution_count": 32,
      "outputs": [
        {
          "output_type": "execute_result",
          "data": {
            "text/plain": [
              "<tf.Tensor: shape=(), dtype=int64, numpy=937>"
            ]
          },
          "metadata": {},
          "execution_count": 32
        }
      ]
    },
    {
      "cell_type": "code",
      "source": [
        "837**.5"
      ],
      "metadata": {
        "colab": {
          "base_uri": "https://localhost:8080/"
        },
        "id": "A5Qr-BUQ7J7v",
        "outputId": "8b9d28b8-7795-41e3-c3f5-a85b881c6602"
      },
      "execution_count": 33,
      "outputs": [
        {
          "output_type": "execute_result",
          "data": {
            "text/plain": [
              "28.930952282978865"
            ]
          },
          "metadata": {},
          "execution_count": 33
        }
      ]
    },
    {
      "cell_type": "code",
      "source": [
        ""
      ],
      "metadata": {
        "id": "3Q4n4ymk7OPj"
      },
      "execution_count": 33,
      "outputs": []
    }
  ]
}