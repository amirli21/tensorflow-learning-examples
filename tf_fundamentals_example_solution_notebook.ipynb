{
  "nbformat": 4,
  "nbformat_minor": 0,
  "metadata": {
    "colab": {
      "provenance": [],
      "mount_file_id": "1uHK0_rb3O5J1ukxLs_QP5FYdMaAHsRqq",
      "authorship_tag": "ABX9TyPDPEbdV4S3+4+I9FEPG4uG",
      "include_colab_link": true
    },
    "kernelspec": {
      "name": "python3",
      "display_name": "Python 3"
    },
    "language_info": {
      "name": "python"
    },
    "accelerator": "GPU",
    "gpuClass": "standard"
  },
  "cells": [
    {
      "cell_type": "markdown",
      "metadata": {
        "id": "view-in-github",
        "colab_type": "text"
      },
      "source": [
        "<a href=\"https://colab.research.google.com/github/amirli21/tensorflow-learning-examples/blob/main/tf_fundamentals_example_solution_notebook.ipynb\" target=\"_parent\"><img src=\"https://colab.research.google.com/assets/colab-badge.svg\" alt=\"Open In Colab\"/></a>"
      ]
    },
    {
      "cell_type": "markdown",
      "source": [
        "# Tensorflow fundamentals \n",
        "\n",
        "# Classification example notebook"
      ],
      "metadata": {
        "id": "fkMGXZmVwZQP"
      }
    },
    {
      "cell_type": "markdown",
      "source": [
        "**Useful links**\n",
        "\n",
        "Learn more about [google colab](https://www.jcchouinard.com/google-colab-with-python/)\n",
        "\n",
        "*See help section* : CMD/CTRL M + h\n",
        "\n",
        "*See pandas display options* : https://stackoverflow.com/questions/11707586/how-do-i-expand-the-output-display-to-see-more-columns-of-a-pandas-dataframe\n",
        "\n",
        "*`pandas.Series.plot()` documentation* : https://pandas.pydata.org/docs/reference/api/pandas.Series.plot.html\n",
        "\n",
        "General information for data science(used it for visualization) : https://inferentialthinking.com/chapters/intro.html\n",
        "\n",
        "Normality test : https://www.statology.org/normality-test-python/\n",
        "\n",
        "General information for data science : https://www.statology.org\n",
        "\n",
        "Apply change to the column : https://pandas.pydata.org/docs/reference/api/pandas.DataFrame.apply.html\n",
        "\n",
        "More about *`pandas.Series.value_counts()`* : https://pandas.pydata.org/docs/reference/api/pandas.Series.value_counts.html\n",
        "\n",
        "More about boolean masks for `pandas.DataFrame`s : https://stackoverflow.com/questions/38802675/create-bool-mask-from-filter-results-in-pandas\n",
        "\n",
        "More about **loan grading** : https://www.investopedia.com/terms/l/loan-grading.asp\n",
        "\n",
        "Plotting `pandas.Series` with **seaborn** : https://stackoverflow.com/questions/46793448/plotting-series-using-seaborn"
      ],
      "metadata": {
        "id": "Twg4CaFaz95J"
      }
    },
    {
      "cell_type": "markdown",
      "source": [
        "## Before we begin\n",
        "\n",
        "### Data\n",
        "\n",
        "We will be using a subset of the LendingClub DataSet obtained from Kaggle: https://www.kaggle.com/wordsforthewise/lending-club\n",
        "\n",
        "\n",
        "LendingClub is a US peer-to-peer lending company, headquartered in San Francisco, California. It was the first peer-to-peer lender to register its offerings as securities with the Securities and Exchange Commission (SEC), and to offer loan trading on a secondary market. LendingClub is the world's largest peer-to-peer lending platform.\n",
        "\n",
        "\n",
        "### Our Goal\n",
        "\n",
        "Given historical data on loans given out with information on whether or not the borrower defaulted (charge-off), can we build a model thatcan predict wether or nor a borrower will pay back their loan? This way in the future when we get a new potential customer we can assess whether or not they are likely to pay back the loan. Keep in mind classification metrics when evaluating the performance of your model!\n",
        "\n",
        "The `loan_status` column contains our label.\n",
        "\n",
        "#### Data Overview\n",
        "\n",
        "\n",
        "----\n",
        "-----\n",
        "There are many LendingClub data sets on Kaggle. Here is the information on this particular data set:\n",
        "\n",
        "<table border=\"1\" class=\"dataframe\">\n",
        "  <thead>\n",
        "    <tr style=\"text-align: right;\">\n",
        "      <th></th>\n",
        "      <th>LoanStatNew</th>\n",
        "      <th>Description</th>\n",
        "    </tr>\n",
        "  </thead>\n",
        "  <tbody>\n",
        "    <tr>\n",
        "      <th>0</th>\n",
        "      <td>loan_amnt</td>\n",
        "      <td>The listed amount of the loan applied for by the borrower. If at some point in time, the credit department reduces the loan amount, then it will be reflected in this value.</td>\n",
        "    </tr>\n",
        "    <tr>\n",
        "      <th>1</th>\n",
        "      <td>term</td>\n",
        "      <td>The number of payments on the loan. Values are in months and can be either 36 or 60.</td>\n",
        "    </tr>\n",
        "    <tr>\n",
        "      <th>2</th>\n",
        "      <td>int_rate</td>\n",
        "      <td>Interest Rate on the loan</td>\n",
        "    </tr>\n",
        "    <tr>\n",
        "      <th>3</th>\n",
        "      <td>installment</td>\n",
        "      <td>The monthly payment owed by the borrower if the loan originates.</td>\n",
        "    </tr>\n",
        "    <tr>\n",
        "      <th>4</th>\n",
        "      <td>grade</td>\n",
        "      <td>LC assigned loan grade</td>\n",
        "    </tr>\n",
        "    <tr>\n",
        "      <th>5</th>\n",
        "      <td>sub_grade</td>\n",
        "      <td>LC assigned loan subgrade</td>\n",
        "    </tr>\n",
        "    <tr>\n",
        "      <th>6</th>\n",
        "      <td>emp_title</td>\n",
        "      <td>The job title supplied by the Borrower when applying for the loan.*</td>\n",
        "    </tr>\n",
        "    <tr>\n",
        "      <th>7</th>\n",
        "      <td>emp_length</td>\n",
        "      <td>Employment length in years. Possible values are between 0 and 10 where 0 means less than one year and 10 means ten or more years.</td>\n",
        "    </tr>\n",
        "    <tr>\n",
        "      <th>8</th>\n",
        "      <td>home_ownership</td>\n",
        "      <td>The home ownership status provided by the borrower during registration or obtained from the credit report. Our values are: RENT, OWN, MORTGAGE, OTHER</td>\n",
        "    </tr>\n",
        "    <tr>\n",
        "      <th>9</th>\n",
        "      <td>annual_inc</td>\n",
        "      <td>The self-reported annual income provided by the borrower during registration.</td>\n",
        "    </tr>\n",
        "    <tr>\n",
        "      <th>10</th>\n",
        "      <td>verification_status</td>\n",
        "      <td>Indicates if income was verified by LC, not verified, or if the income source was verified</td>\n",
        "    </tr>\n",
        "    <tr>\n",
        "      <th>11</th>\n",
        "      <td>issue_d</td>\n",
        "      <td>The month which the loan was funded</td>\n",
        "    </tr>\n",
        "    <tr>\n",
        "      <th>12</th>\n",
        "      <td>loan_status</td>\n",
        "      <td>Current status of the loan</td>\n",
        "    </tr>\n",
        "    <tr>\n",
        "      <th>13</th>\n",
        "      <td>purpose</td>\n",
        "      <td>A category provided by the borrower for the loan request.</td>\n",
        "    </tr>\n",
        "    <tr>\n",
        "      <th>14</th>\n",
        "      <td>title</td>\n",
        "      <td>The loan title provided by the borrower</td>\n",
        "    </tr>\n",
        "    <tr>\n",
        "      <th>15</th>\n",
        "      <td>zip_code</td>\n",
        "      <td>The first 3 numbers of the zip code provided by the borrower in the loan application.</td>\n",
        "    </tr>\n",
        "    <tr>\n",
        "      <th>16</th>\n",
        "      <td>addr_state</td>\n",
        "      <td>The state provided by the borrower in the loan application</td>\n",
        "    </tr>\n",
        "    <tr>\n",
        "      <th>17</th>\n",
        "      <td>dti</td>\n",
        "      <td>A ratio calculated using the borrower’s total monthly debt payments on the total debt obligations, excluding mortgage and the requested LC loan, divided by the borrower’s self-reported monthly income.</td>\n",
        "    </tr>\n",
        "    <tr>\n",
        "      <th>18</th>\n",
        "      <td>earliest_cr_line</td>\n",
        "      <td>The month the borrower's earliest reported credit line was opened</td>\n",
        "    </tr>\n",
        "    <tr>\n",
        "      <th>19</th>\n",
        "      <td>open_acc</td>\n",
        "      <td>The number of open credit lines in the borrower's credit file.</td>\n",
        "    </tr>\n",
        "    <tr>\n",
        "      <th>20</th>\n",
        "      <td>pub_rec</td>\n",
        "      <td>Number of derogatory public records</td>\n",
        "    </tr>\n",
        "    <tr>\n",
        "      <th>21</th>\n",
        "      <td>revol_bal</td>\n",
        "      <td>Total credit revolving balance</td>\n",
        "    </tr>\n",
        "    <tr>\n",
        "      <th>22</th>\n",
        "      <td>revol_util</td>\n",
        "      <td>Revolving line utilization rate, or the amount of credit the borrower is using relative to all available revolving credit.</td>\n",
        "    </tr>\n",
        "    <tr>\n",
        "      <th>23</th>\n",
        "      <td>total_acc</td>\n",
        "      <td>The total number of credit lines currently in the borrower's credit file</td>\n",
        "    </tr>\n",
        "    <tr>\n",
        "      <th>24</th>\n",
        "      <td>initial_list_status</td>\n",
        "      <td>The initial listing status of the loan. Possible values are – W, F</td>\n",
        "    </tr>\n",
        "    <tr>\n",
        "      <th>25</th>\n",
        "      <td>application_type</td>\n",
        "      <td>Indicates whether the loan is an individual application or a joint application with two co-borrowers</td>\n",
        "    </tr>\n",
        "    <tr>\n",
        "      <th>26</th>\n",
        "      <td>mort_acc</td>\n",
        "      <td>Number of mortgage accounts.</td>\n",
        "    </tr>\n",
        "    <tr>\n",
        "      <th>27</th>\n",
        "      <td>pub_rec_bankruptcies</td>\n",
        "      <td>Number of public record bankruptcies</td>\n",
        "    </tr>\n",
        "  </tbody>\n",
        "</table>\n",
        "\n",
        "---\n",
        "----"
      ],
      "metadata": {
        "id": "vNkSwYIk4Rz4"
      }
    },
    {
      "cell_type": "code",
      "source": [
        "data_folder = '/content/drive/MyDrive/DATA/'\n",
        "info_path = 'lending_club_info.csv'\n",
        "data_path = 'lending_club_loan_two.csv'"
      ],
      "metadata": {
        "id": "0tQE6I0mxRQs"
      },
      "execution_count": 1,
      "outputs": []
    },
    {
      "cell_type": "markdown",
      "source": [
        "## Loading the data and other imports"
      ],
      "metadata": {
        "id": "RPmgKomLw9_N"
      }
    },
    {
      "cell_type": "code",
      "source": [
        "import pandas as pd\n",
        "import numpy as np\n",
        "import matplotlib.pyplot as plt\n",
        "import seaborn as sns\n",
        "import warnings # to handle warnings\n",
        "from scipy.stats import shapiro\n",
        "import random\n",
        "from sklearn.svm import LinearSVC\n",
        "from sklearn.linear_model import LogisticRegression\n",
        "from sklearn.ensemble import GradientBoostingClassifier\n",
        "from sklearn.metrics import confusion_matrix, ConfusionMatrixDisplay, classification_report\n",
        "# we'll look at the classification report, since data is imbalanced\n",
        "from sklearn.preprocessing import MinMaxScaler\n",
        "from sklearn.model_selection import train_test_split\n",
        "\n",
        "# ann\n",
        "import tensorflow as tf\n",
        "from tensorflow.keras.models import Sequential\n",
        "from tensorflow.keras.layers import Dense, Dropout\n",
        "\n",
        "\n",
        "\n",
        "warnings.filterwarnings('ignore')\n",
        "pd.set_option('display.max_columns', 500)\n",
        "%matplotlib inline\n",
        "\n",
        "palettes = [\n",
        "    'Accent', 'Accent_r', 'Blues', 'Blues_r', 'BrBG', 'BrBG_r',\n",
        "    'BuGn', 'BuGn_r', 'BuPu', 'BuPu_r', 'CMRmap', 'CMRmap_r',\n",
        "    'Dark2', 'Dark2_r', 'GnBu', 'GnBu_r', 'Greens', 'Greens_r',\n",
        "    'Greys', 'Greys_r', 'OrRd', 'OrRd_r', 'Oranges', 'Oranges_r', 'PRGn',\n",
        "    'PRGn_r', 'Paired', 'Paired_r', 'Pastel1', 'Pastel1_r', 'Pastel2',\n",
        "    'Pastel2_r', 'PiYG', 'PiYG_r', 'PuBu', 'PuBuGn', 'PuBuGn_r', 'PuBu_r',\n",
        "    'PuOr', 'PuOr_r', 'PuRd', 'PuRd_r', 'Purples', 'Purples_r', 'RdBu',\n",
        "    'RdBu_r', 'RdGy', 'RdGy_r', 'RdPu', 'RdPu_r', 'RdYlBu', 'RdYlBu_r',\n",
        "    'RdYlGn', 'RdYlGn_r', 'Reds', 'Reds_r', 'Set1', 'Set1_r', 'Set2', \n",
        "    'Set2_r', 'Set3', 'Set3_r', 'Spectral', 'Spectral_r', 'Wistia',\n",
        "    'Wistia_r', 'YlGn', 'YlGnBu', 'YlGnBu_r', 'YlGn_r', 'YlOrBr', 'YlOrBr_r',\n",
        "    'YlOrRd', 'YlOrRd_r', 'afmhot', 'afmhot_r', 'autumn', 'autumn_r', 'binary','binary_r',\n",
        "    'bone', 'bone_r', 'brg', 'brg_r', 'bwr', 'bwr_r', 'cividis', 'cividis_r', 'cool', 'cool_r',\n",
        "    'coolwarm', 'coolwarm_r', 'copper', 'copper_r', 'crest', 'crest_r', 'cubehelix',\n",
        "    'cubehelix_r', 'flag', 'flag_r', 'flare', 'flare_r', 'gist_earth', 'gist_earth_r',\n",
        "    'gist_gray', 'gist_gray_r', 'gist_heat', 'gist_heat_r', 'gist_ncar', 'gist_ncar_r',\n",
        "    'gist_rainbow', 'gist_rainbow_r', 'gist_stern', 'gist_stern_r', 'gist_yarg',\n",
        "    'gist_yarg_r', 'gnuplot', 'gnuplot2', 'gnuplot2_r', 'gnuplot_r', 'gray', 'gray_r',\n",
        "    'hot', 'hot_r', 'hsv', 'hsv_r', 'icefire', 'icefire_r', 'inferno', 'inferno_r', 'jet', 'jet_r'\n",
        "]"
      ],
      "metadata": {
        "id": "3MQ6Ugle9GRH"
      },
      "execution_count": 2,
      "outputs": []
    },
    {
      "cell_type": "code",
      "source": [
        "info_df = pd.read_csv(data_folder + info_path, index_col='LoanStatNew')\n",
        "\n",
        "data = pd.read_csv(data_folder + data_path)"
      ],
      "metadata": {
        "id": "RQzZKEpk9b3G"
      },
      "execution_count": 3,
      "outputs": []
    },
    {
      "cell_type": "markdown",
      "source": [
        "## EDA and Data Preprocessing"
      ],
      "metadata": {
        "id": "3mILwLnaLFlQ"
      }
    },
    {
      "cell_type": "code",
      "source": [
        "def get_col_description(col_name:str) -> None:\n",
        "  print()\n",
        "  try:\n",
        "    print(f'Column name: {col_name}')\n",
        "    print()\n",
        "    print(f'Data type of the column: {data[col_name].dtype}')\n",
        "    print()\n",
        "    description = info_df.loc[col_name][\"Description\"]\n",
        "    if len(description) > 122:\n",
        "      print(f'Column information: {description[:122]}')\n",
        "      print()\n",
        "      print(f'                   {description[122:]}')\n",
        "    else:\n",
        "      print(f'Column information: {description}')\n",
        "    print()\n",
        "  except KeyError:\n",
        "    print(f'{col_name} is not presented in the dataframe')\n",
        "    print()\n"
      ],
      "metadata": {
        "id": "xtatSNuK9rg6"
      },
      "execution_count": 4,
      "outputs": []
    },
    {
      "cell_type": "code",
      "source": [
        "col_names = list(data.columns)"
      ],
      "metadata": {
        "id": "egG4Iu8c9tqG"
      },
      "execution_count": 5,
      "outputs": []
    },
    {
      "cell_type": "markdown",
      "source": [
        "<a name='data_info'></a>\n",
        "### DATA INFORMATION"
      ],
      "metadata": {
        "id": "md_5LPE3LTpz"
      }
    },
    {
      "cell_type": "code",
      "source": [
        "print('DATA INFORMATION'.center(150, '-'))\n",
        "for col in col_names:\n",
        "  get_col_description(col)\n",
        "  print(\"*\" * 150)"
      ],
      "metadata": {
        "colab": {
          "base_uri": "https://localhost:8080/"
        },
        "id": "RcKmeD7tETWo",
        "outputId": "f64eae4b-7152-4291-8b5d-6fcfdaceba0f"
      },
      "execution_count": 6,
      "outputs": [
        {
          "output_type": "stream",
          "name": "stdout",
          "text": [
            "-------------------------------------------------------------------DATA INFORMATION-------------------------------------------------------------------\n",
            "\n",
            "Column name: loan_amnt\n",
            "\n",
            "Data type of the column: float64\n",
            "\n",
            "Column information: The listed amount of the loan applied for by the borrower. If at some point in time, the credit department reduces the loa\n",
            "\n",
            "                   n amount, then it will be reflected in this value.\n",
            "\n",
            "******************************************************************************************************************************************************\n",
            "\n",
            "Column name: term\n",
            "\n",
            "Data type of the column: object\n",
            "\n",
            "Column information: The number of payments on the loan. Values are in months and can be either 36 or 60.\n",
            "\n",
            "******************************************************************************************************************************************************\n",
            "\n",
            "Column name: int_rate\n",
            "\n",
            "Data type of the column: float64\n",
            "\n",
            "Column information: Interest Rate on the loan\n",
            "\n",
            "******************************************************************************************************************************************************\n",
            "\n",
            "Column name: installment\n",
            "\n",
            "Data type of the column: float64\n",
            "\n",
            "Column information: The monthly payment owed by the borrower if the loan originates.\n",
            "\n",
            "******************************************************************************************************************************************************\n",
            "\n",
            "Column name: grade\n",
            "\n",
            "Data type of the column: object\n",
            "\n",
            "Column information: LC assigned loan grade\n",
            "\n",
            "******************************************************************************************************************************************************\n",
            "\n",
            "Column name: sub_grade\n",
            "\n",
            "Data type of the column: object\n",
            "\n",
            "Column information: LC assigned loan subgrade\n",
            "\n",
            "******************************************************************************************************************************************************\n",
            "\n",
            "Column name: emp_title\n",
            "\n",
            "Data type of the column: object\n",
            "\n",
            "Column information: The job title supplied by the Borrower when applying for the loan.*\n",
            "\n",
            "******************************************************************************************************************************************************\n",
            "\n",
            "Column name: emp_length\n",
            "\n",
            "Data type of the column: object\n",
            "\n",
            "Column information: Employment length in years. Possible values are between 0 and 10 where 0 means less than one year and 10 means ten or more\n",
            "\n",
            "                    years. \n",
            "\n",
            "******************************************************************************************************************************************************\n",
            "\n",
            "Column name: home_ownership\n",
            "\n",
            "Data type of the column: object\n",
            "\n",
            "Column information: The home ownership status provided by the borrower during registration or obtained from the credit report. Our values are:\n",
            "\n",
            "                    RENT, OWN, MORTGAGE, OTHER\n",
            "\n",
            "******************************************************************************************************************************************************\n",
            "\n",
            "Column name: annual_inc\n",
            "\n",
            "Data type of the column: float64\n",
            "\n",
            "Column information: The self-reported annual income provided by the borrower during registration.\n",
            "\n",
            "******************************************************************************************************************************************************\n",
            "\n",
            "Column name: verification_status\n",
            "\n",
            "Data type of the column: object\n",
            "\n",
            "Column information: Indicates if income was verified by LC, not verified, or if the income source was verified\n",
            "\n",
            "******************************************************************************************************************************************************\n",
            "\n",
            "Column name: issue_d\n",
            "\n",
            "Data type of the column: object\n",
            "\n",
            "Column information: The month which the loan was funded\n",
            "\n",
            "******************************************************************************************************************************************************\n",
            "\n",
            "Column name: loan_status\n",
            "\n",
            "Data type of the column: object\n",
            "\n",
            "Column information: Current status of the loan\n",
            "\n",
            "******************************************************************************************************************************************************\n",
            "\n",
            "Column name: purpose\n",
            "\n",
            "Data type of the column: object\n",
            "\n",
            "Column information: A category provided by the borrower for the loan request. \n",
            "\n",
            "******************************************************************************************************************************************************\n",
            "\n",
            "Column name: title\n",
            "\n",
            "Data type of the column: object\n",
            "\n",
            "Column information: The loan title provided by the borrower\n",
            "\n",
            "******************************************************************************************************************************************************\n",
            "\n",
            "Column name: dti\n",
            "\n",
            "Data type of the column: float64\n",
            "\n",
            "Column information: A ratio calculated using the borrower’s total monthly debt payments on the total debt obligations, excluding mortgage and \n",
            "\n",
            "                   the requested LC loan, divided by the borrower’s self-reported monthly income.\n",
            "\n",
            "******************************************************************************************************************************************************\n",
            "\n",
            "Column name: earliest_cr_line\n",
            "\n",
            "Data type of the column: object\n",
            "\n",
            "Column information: The month the borrower's earliest reported credit line was opened\n",
            "\n",
            "******************************************************************************************************************************************************\n",
            "\n",
            "Column name: open_acc\n",
            "\n",
            "Data type of the column: float64\n",
            "\n",
            "Column information: The number of open credit lines in the borrower's credit file.\n",
            "\n",
            "******************************************************************************************************************************************************\n",
            "\n",
            "Column name: pub_rec\n",
            "\n",
            "Data type of the column: float64\n",
            "\n",
            "Column information: Number of derogatory public records\n",
            "\n",
            "******************************************************************************************************************************************************\n",
            "\n",
            "Column name: revol_bal\n",
            "\n",
            "Data type of the column: float64\n",
            "\n",
            "Column information: Total credit revolving balance\n",
            "\n",
            "******************************************************************************************************************************************************\n",
            "\n",
            "Column name: revol_util\n",
            "\n",
            "Data type of the column: float64\n",
            "\n",
            "Column information: Revolving line utilization rate, or the amount of credit the borrower is using relative to all available revolving credit.\n",
            "\n",
            "******************************************************************************************************************************************************\n",
            "\n",
            "Column name: total_acc\n",
            "\n",
            "Data type of the column: float64\n",
            "\n",
            "Column information: The total number of credit lines currently in the borrower's credit file\n",
            "\n",
            "******************************************************************************************************************************************************\n",
            "\n",
            "Column name: initial_list_status\n",
            "\n",
            "Data type of the column: object\n",
            "\n",
            "Column information: The initial listing status of the loan. Possible values are – W, F\n",
            "\n",
            "******************************************************************************************************************************************************\n",
            "\n",
            "Column name: application_type\n",
            "\n",
            "Data type of the column: object\n",
            "\n",
            "Column information: Indicates whether the loan is an individual application or a joint application with two co-borrowers\n",
            "\n",
            "******************************************************************************************************************************************************\n",
            "\n",
            "Column name: mort_acc\n",
            "\n",
            "Data type of the column: float64\n",
            "\n",
            "Column information: Number of mortgage accounts.\n",
            "\n",
            "******************************************************************************************************************************************************\n",
            "\n",
            "Column name: pub_rec_bankruptcies\n",
            "\n",
            "Data type of the column: float64\n",
            "\n",
            "Column information: Number of public record bankruptcies\n",
            "\n",
            "******************************************************************************************************************************************************\n",
            "\n",
            "Column name: address\n",
            "\n",
            "Data type of the column: object\n",
            "\n",
            "address is not presented in the dataframe\n",
            "\n",
            "******************************************************************************************************************************************************\n"
          ]
        }
      ]
    },
    {
      "cell_type": "code",
      "source": [
        "data.head()"
      ],
      "metadata": {
        "colab": {
          "base_uri": "https://localhost:8080/",
          "height": 444
        },
        "id": "OVTUd6BHF9vv",
        "outputId": "f4e372e5-6a7e-41f3-af46-0b2034a302b5"
      },
      "execution_count": 7,
      "outputs": [
        {
          "output_type": "execute_result",
          "data": {
            "text/plain": [
              "   loan_amnt        term  int_rate  installment grade sub_grade  \\\n",
              "0    10000.0   36 months     11.44       329.48     B        B4   \n",
              "1     8000.0   36 months     11.99       265.68     B        B5   \n",
              "2    15600.0   36 months     10.49       506.97     B        B3   \n",
              "3     7200.0   36 months      6.49       220.65     A        A2   \n",
              "4    24375.0   60 months     17.27       609.33     C        C5   \n",
              "\n",
              "                 emp_title emp_length home_ownership  annual_inc  \\\n",
              "0                Marketing  10+ years           RENT    117000.0   \n",
              "1          Credit analyst     4 years       MORTGAGE     65000.0   \n",
              "2             Statistician   < 1 year           RENT     43057.0   \n",
              "3          Client Advocate    6 years           RENT     54000.0   \n",
              "4  Destiny Management Inc.    9 years       MORTGAGE     55000.0   \n",
              "\n",
              "  verification_status   issue_d  loan_status             purpose  \\\n",
              "0        Not Verified  Jan-2015   Fully Paid            vacation   \n",
              "1        Not Verified  Jan-2015   Fully Paid  debt_consolidation   \n",
              "2     Source Verified  Jan-2015   Fully Paid         credit_card   \n",
              "3        Not Verified  Nov-2014   Fully Paid         credit_card   \n",
              "4            Verified  Apr-2013  Charged Off         credit_card   \n",
              "\n",
              "                     title    dti earliest_cr_line  open_acc  pub_rec  \\\n",
              "0                 Vacation  26.24         Jun-1990      16.0      0.0   \n",
              "1       Debt consolidation  22.05         Jul-2004      17.0      0.0   \n",
              "2  Credit card refinancing  12.79         Aug-2007      13.0      0.0   \n",
              "3  Credit card refinancing   2.60         Sep-2006       6.0      0.0   \n",
              "4    Credit Card Refinance  33.95         Mar-1999      13.0      0.0   \n",
              "\n",
              "   revol_bal  revol_util  total_acc initial_list_status application_type  \\\n",
              "0    36369.0        41.8       25.0                   w       INDIVIDUAL   \n",
              "1    20131.0        53.3       27.0                   f       INDIVIDUAL   \n",
              "2    11987.0        92.2       26.0                   f       INDIVIDUAL   \n",
              "3     5472.0        21.5       13.0                   f       INDIVIDUAL   \n",
              "4    24584.0        69.8       43.0                   f       INDIVIDUAL   \n",
              "\n",
              "   mort_acc  pub_rec_bankruptcies  \\\n",
              "0       0.0                   0.0   \n",
              "1       3.0                   0.0   \n",
              "2       0.0                   0.0   \n",
              "3       0.0                   0.0   \n",
              "4       1.0                   0.0   \n",
              "\n",
              "                                             address  \n",
              "0     0174 Michelle Gateway\\r\\nMendozaberg, OK 22690  \n",
              "1  1076 Carney Fort Apt. 347\\r\\nLoganmouth, SD 05113  \n",
              "2  87025 Mark Dale Apt. 269\\r\\nNew Sabrina, WV 05113  \n",
              "3            823 Reid Ford\\r\\nDelacruzside, MA 00813  \n",
              "4             679 Luna Roads\\r\\nGreggshire, VA 11650  "
            ],
            "text/html": [
              "\n",
              "  <div id=\"df-2bc7b9cb-538c-4848-b329-77ae497044a9\">\n",
              "    <div class=\"colab-df-container\">\n",
              "      <div>\n",
              "<style scoped>\n",
              "    .dataframe tbody tr th:only-of-type {\n",
              "        vertical-align: middle;\n",
              "    }\n",
              "\n",
              "    .dataframe tbody tr th {\n",
              "        vertical-align: top;\n",
              "    }\n",
              "\n",
              "    .dataframe thead th {\n",
              "        text-align: right;\n",
              "    }\n",
              "</style>\n",
              "<table border=\"1\" class=\"dataframe\">\n",
              "  <thead>\n",
              "    <tr style=\"text-align: right;\">\n",
              "      <th></th>\n",
              "      <th>loan_amnt</th>\n",
              "      <th>term</th>\n",
              "      <th>int_rate</th>\n",
              "      <th>installment</th>\n",
              "      <th>grade</th>\n",
              "      <th>sub_grade</th>\n",
              "      <th>emp_title</th>\n",
              "      <th>emp_length</th>\n",
              "      <th>home_ownership</th>\n",
              "      <th>annual_inc</th>\n",
              "      <th>verification_status</th>\n",
              "      <th>issue_d</th>\n",
              "      <th>loan_status</th>\n",
              "      <th>purpose</th>\n",
              "      <th>title</th>\n",
              "      <th>dti</th>\n",
              "      <th>earliest_cr_line</th>\n",
              "      <th>open_acc</th>\n",
              "      <th>pub_rec</th>\n",
              "      <th>revol_bal</th>\n",
              "      <th>revol_util</th>\n",
              "      <th>total_acc</th>\n",
              "      <th>initial_list_status</th>\n",
              "      <th>application_type</th>\n",
              "      <th>mort_acc</th>\n",
              "      <th>pub_rec_bankruptcies</th>\n",
              "      <th>address</th>\n",
              "    </tr>\n",
              "  </thead>\n",
              "  <tbody>\n",
              "    <tr>\n",
              "      <th>0</th>\n",
              "      <td>10000.0</td>\n",
              "      <td>36 months</td>\n",
              "      <td>11.44</td>\n",
              "      <td>329.48</td>\n",
              "      <td>B</td>\n",
              "      <td>B4</td>\n",
              "      <td>Marketing</td>\n",
              "      <td>10+ years</td>\n",
              "      <td>RENT</td>\n",
              "      <td>117000.0</td>\n",
              "      <td>Not Verified</td>\n",
              "      <td>Jan-2015</td>\n",
              "      <td>Fully Paid</td>\n",
              "      <td>vacation</td>\n",
              "      <td>Vacation</td>\n",
              "      <td>26.24</td>\n",
              "      <td>Jun-1990</td>\n",
              "      <td>16.0</td>\n",
              "      <td>0.0</td>\n",
              "      <td>36369.0</td>\n",
              "      <td>41.8</td>\n",
              "      <td>25.0</td>\n",
              "      <td>w</td>\n",
              "      <td>INDIVIDUAL</td>\n",
              "      <td>0.0</td>\n",
              "      <td>0.0</td>\n",
              "      <td>0174 Michelle Gateway\\r\\nMendozaberg, OK 22690</td>\n",
              "    </tr>\n",
              "    <tr>\n",
              "      <th>1</th>\n",
              "      <td>8000.0</td>\n",
              "      <td>36 months</td>\n",
              "      <td>11.99</td>\n",
              "      <td>265.68</td>\n",
              "      <td>B</td>\n",
              "      <td>B5</td>\n",
              "      <td>Credit analyst</td>\n",
              "      <td>4 years</td>\n",
              "      <td>MORTGAGE</td>\n",
              "      <td>65000.0</td>\n",
              "      <td>Not Verified</td>\n",
              "      <td>Jan-2015</td>\n",
              "      <td>Fully Paid</td>\n",
              "      <td>debt_consolidation</td>\n",
              "      <td>Debt consolidation</td>\n",
              "      <td>22.05</td>\n",
              "      <td>Jul-2004</td>\n",
              "      <td>17.0</td>\n",
              "      <td>0.0</td>\n",
              "      <td>20131.0</td>\n",
              "      <td>53.3</td>\n",
              "      <td>27.0</td>\n",
              "      <td>f</td>\n",
              "      <td>INDIVIDUAL</td>\n",
              "      <td>3.0</td>\n",
              "      <td>0.0</td>\n",
              "      <td>1076 Carney Fort Apt. 347\\r\\nLoganmouth, SD 05113</td>\n",
              "    </tr>\n",
              "    <tr>\n",
              "      <th>2</th>\n",
              "      <td>15600.0</td>\n",
              "      <td>36 months</td>\n",
              "      <td>10.49</td>\n",
              "      <td>506.97</td>\n",
              "      <td>B</td>\n",
              "      <td>B3</td>\n",
              "      <td>Statistician</td>\n",
              "      <td>&lt; 1 year</td>\n",
              "      <td>RENT</td>\n",
              "      <td>43057.0</td>\n",
              "      <td>Source Verified</td>\n",
              "      <td>Jan-2015</td>\n",
              "      <td>Fully Paid</td>\n",
              "      <td>credit_card</td>\n",
              "      <td>Credit card refinancing</td>\n",
              "      <td>12.79</td>\n",
              "      <td>Aug-2007</td>\n",
              "      <td>13.0</td>\n",
              "      <td>0.0</td>\n",
              "      <td>11987.0</td>\n",
              "      <td>92.2</td>\n",
              "      <td>26.0</td>\n",
              "      <td>f</td>\n",
              "      <td>INDIVIDUAL</td>\n",
              "      <td>0.0</td>\n",
              "      <td>0.0</td>\n",
              "      <td>87025 Mark Dale Apt. 269\\r\\nNew Sabrina, WV 05113</td>\n",
              "    </tr>\n",
              "    <tr>\n",
              "      <th>3</th>\n",
              "      <td>7200.0</td>\n",
              "      <td>36 months</td>\n",
              "      <td>6.49</td>\n",
              "      <td>220.65</td>\n",
              "      <td>A</td>\n",
              "      <td>A2</td>\n",
              "      <td>Client Advocate</td>\n",
              "      <td>6 years</td>\n",
              "      <td>RENT</td>\n",
              "      <td>54000.0</td>\n",
              "      <td>Not Verified</td>\n",
              "      <td>Nov-2014</td>\n",
              "      <td>Fully Paid</td>\n",
              "      <td>credit_card</td>\n",
              "      <td>Credit card refinancing</td>\n",
              "      <td>2.60</td>\n",
              "      <td>Sep-2006</td>\n",
              "      <td>6.0</td>\n",
              "      <td>0.0</td>\n",
              "      <td>5472.0</td>\n",
              "      <td>21.5</td>\n",
              "      <td>13.0</td>\n",
              "      <td>f</td>\n",
              "      <td>INDIVIDUAL</td>\n",
              "      <td>0.0</td>\n",
              "      <td>0.0</td>\n",
              "      <td>823 Reid Ford\\r\\nDelacruzside, MA 00813</td>\n",
              "    </tr>\n",
              "    <tr>\n",
              "      <th>4</th>\n",
              "      <td>24375.0</td>\n",
              "      <td>60 months</td>\n",
              "      <td>17.27</td>\n",
              "      <td>609.33</td>\n",
              "      <td>C</td>\n",
              "      <td>C5</td>\n",
              "      <td>Destiny Management Inc.</td>\n",
              "      <td>9 years</td>\n",
              "      <td>MORTGAGE</td>\n",
              "      <td>55000.0</td>\n",
              "      <td>Verified</td>\n",
              "      <td>Apr-2013</td>\n",
              "      <td>Charged Off</td>\n",
              "      <td>credit_card</td>\n",
              "      <td>Credit Card Refinance</td>\n",
              "      <td>33.95</td>\n",
              "      <td>Mar-1999</td>\n",
              "      <td>13.0</td>\n",
              "      <td>0.0</td>\n",
              "      <td>24584.0</td>\n",
              "      <td>69.8</td>\n",
              "      <td>43.0</td>\n",
              "      <td>f</td>\n",
              "      <td>INDIVIDUAL</td>\n",
              "      <td>1.0</td>\n",
              "      <td>0.0</td>\n",
              "      <td>679 Luna Roads\\r\\nGreggshire, VA 11650</td>\n",
              "    </tr>\n",
              "  </tbody>\n",
              "</table>\n",
              "</div>\n",
              "      <button class=\"colab-df-convert\" onclick=\"convertToInteractive('df-2bc7b9cb-538c-4848-b329-77ae497044a9')\"\n",
              "              title=\"Convert this dataframe to an interactive table.\"\n",
              "              style=\"display:none;\">\n",
              "        \n",
              "  <svg xmlns=\"http://www.w3.org/2000/svg\" height=\"24px\"viewBox=\"0 0 24 24\"\n",
              "       width=\"24px\">\n",
              "    <path d=\"M0 0h24v24H0V0z\" fill=\"none\"/>\n",
              "    <path d=\"M18.56 5.44l.94 2.06.94-2.06 2.06-.94-2.06-.94-.94-2.06-.94 2.06-2.06.94zm-11 1L8.5 8.5l.94-2.06 2.06-.94-2.06-.94L8.5 2.5l-.94 2.06-2.06.94zm10 10l.94 2.06.94-2.06 2.06-.94-2.06-.94-.94-2.06-.94 2.06-2.06.94z\"/><path d=\"M17.41 7.96l-1.37-1.37c-.4-.4-.92-.59-1.43-.59-.52 0-1.04.2-1.43.59L10.3 9.45l-7.72 7.72c-.78.78-.78 2.05 0 2.83L4 21.41c.39.39.9.59 1.41.59.51 0 1.02-.2 1.41-.59l7.78-7.78 2.81-2.81c.8-.78.8-2.07 0-2.86zM5.41 20L4 18.59l7.72-7.72 1.47 1.35L5.41 20z\"/>\n",
              "  </svg>\n",
              "      </button>\n",
              "      \n",
              "  <style>\n",
              "    .colab-df-container {\n",
              "      display:flex;\n",
              "      flex-wrap:wrap;\n",
              "      gap: 12px;\n",
              "    }\n",
              "\n",
              "    .colab-df-convert {\n",
              "      background-color: #E8F0FE;\n",
              "      border: none;\n",
              "      border-radius: 50%;\n",
              "      cursor: pointer;\n",
              "      display: none;\n",
              "      fill: #1967D2;\n",
              "      height: 32px;\n",
              "      padding: 0 0 0 0;\n",
              "      width: 32px;\n",
              "    }\n",
              "\n",
              "    .colab-df-convert:hover {\n",
              "      background-color: #E2EBFA;\n",
              "      box-shadow: 0px 1px 2px rgba(60, 64, 67, 0.3), 0px 1px 3px 1px rgba(60, 64, 67, 0.15);\n",
              "      fill: #174EA6;\n",
              "    }\n",
              "\n",
              "    [theme=dark] .colab-df-convert {\n",
              "      background-color: #3B4455;\n",
              "      fill: #D2E3FC;\n",
              "    }\n",
              "\n",
              "    [theme=dark] .colab-df-convert:hover {\n",
              "      background-color: #434B5C;\n",
              "      box-shadow: 0px 1px 3px 1px rgba(0, 0, 0, 0.15);\n",
              "      filter: drop-shadow(0px 1px 2px rgba(0, 0, 0, 0.3));\n",
              "      fill: #FFFFFF;\n",
              "    }\n",
              "  </style>\n",
              "\n",
              "      <script>\n",
              "        const buttonEl =\n",
              "          document.querySelector('#df-2bc7b9cb-538c-4848-b329-77ae497044a9 button.colab-df-convert');\n",
              "        buttonEl.style.display =\n",
              "          google.colab.kernel.accessAllowed ? 'block' : 'none';\n",
              "\n",
              "        async function convertToInteractive(key) {\n",
              "          const element = document.querySelector('#df-2bc7b9cb-538c-4848-b329-77ae497044a9');\n",
              "          const dataTable =\n",
              "            await google.colab.kernel.invokeFunction('convertToInteractive',\n",
              "                                                     [key], {});\n",
              "          if (!dataTable) return;\n",
              "\n",
              "          const docLinkHtml = 'Like what you see? Visit the ' +\n",
              "            '<a target=\"_blank\" href=https://colab.research.google.com/notebooks/data_table.ipynb>data table notebook</a>'\n",
              "            + ' to learn more about interactive tables.';\n",
              "          element.innerHTML = '';\n",
              "          dataTable['output_type'] = 'display_data';\n",
              "          await google.colab.output.renderOutput(dataTable, element);\n",
              "          const docLink = document.createElement('div');\n",
              "          docLink.innerHTML = docLinkHtml;\n",
              "          element.appendChild(docLink);\n",
              "        }\n",
              "      </script>\n",
              "    </div>\n",
              "  </div>\n",
              "  "
            ]
          },
          "metadata": {},
          "execution_count": 7
        }
      ]
    },
    {
      "cell_type": "code",
      "source": [
        "data.info()"
      ],
      "metadata": {
        "colab": {
          "base_uri": "https://localhost:8080/"
        },
        "id": "wq89z817KEWQ",
        "outputId": "c57ec318-ced9-426e-ce70-85cfcb017506"
      },
      "execution_count": 8,
      "outputs": [
        {
          "output_type": "stream",
          "name": "stdout",
          "text": [
            "<class 'pandas.core.frame.DataFrame'>\n",
            "RangeIndex: 396030 entries, 0 to 396029\n",
            "Data columns (total 27 columns):\n",
            " #   Column                Non-Null Count   Dtype  \n",
            "---  ------                --------------   -----  \n",
            " 0   loan_amnt             396030 non-null  float64\n",
            " 1   term                  396030 non-null  object \n",
            " 2   int_rate              396030 non-null  float64\n",
            " 3   installment           396030 non-null  float64\n",
            " 4   grade                 396030 non-null  object \n",
            " 5   sub_grade             396030 non-null  object \n",
            " 6   emp_title             373103 non-null  object \n",
            " 7   emp_length            377729 non-null  object \n",
            " 8   home_ownership        396030 non-null  object \n",
            " 9   annual_inc            396030 non-null  float64\n",
            " 10  verification_status   396030 non-null  object \n",
            " 11  issue_d               396030 non-null  object \n",
            " 12  loan_status           396030 non-null  object \n",
            " 13  purpose               396030 non-null  object \n",
            " 14  title                 394275 non-null  object \n",
            " 15  dti                   396030 non-null  float64\n",
            " 16  earliest_cr_line      396030 non-null  object \n",
            " 17  open_acc              396030 non-null  float64\n",
            " 18  pub_rec               396030 non-null  float64\n",
            " 19  revol_bal             396030 non-null  float64\n",
            " 20  revol_util            395754 non-null  float64\n",
            " 21  total_acc             396030 non-null  float64\n",
            " 22  initial_list_status   396030 non-null  object \n",
            " 23  application_type      396030 non-null  object \n",
            " 24  mort_acc              358235 non-null  float64\n",
            " 25  pub_rec_bankruptcies  395495 non-null  float64\n",
            " 26  address               396030 non-null  object \n",
            "dtypes: float64(12), object(15)\n",
            "memory usage: 81.6+ MB\n"
          ]
        }
      ]
    },
    {
      "cell_type": "markdown",
      "source": [
        "### EDA for Single Columns\n",
        "\n",
        "For information refer to [DATA INFORMATION](#data_info)"
      ],
      "metadata": {
        "id": "YlHmIdmzK-dQ"
      }
    },
    {
      "cell_type": "markdown",
      "source": [
        "#### loan_amnt column"
      ],
      "metadata": {
        "id": "sm085HLNMdc3"
      }
    },
    {
      "cell_type": "code",
      "source": [
        "data['loan_amnt'].describe()"
      ],
      "metadata": {
        "colab": {
          "base_uri": "https://localhost:8080/"
        },
        "id": "6vQBK3OUN1ZL",
        "outputId": "a4007d45-171a-4f1d-a1f5-e762393eda47"
      },
      "execution_count": 9,
      "outputs": [
        {
          "output_type": "execute_result",
          "data": {
            "text/plain": [
              "count    396030.000000\n",
              "mean      14113.888089\n",
              "std        8357.441341\n",
              "min         500.000000\n",
              "25%        8000.000000\n",
              "50%       12000.000000\n",
              "75%       20000.000000\n",
              "max       40000.000000\n",
              "Name: loan_amnt, dtype: float64"
            ]
          },
          "metadata": {},
          "execution_count": 9
        }
      ]
    },
    {
      "cell_type": "code",
      "source": [
        "sns.boxplot(data['loan_amnt'])"
      ],
      "metadata": {
        "colab": {
          "base_uri": "https://localhost:8080/",
          "height": 297
        },
        "id": "HXG_qhbQN6z3",
        "outputId": "c7be04fb-8f65-4008-9d6c-8b0f181b6e8d"
      },
      "execution_count": 10,
      "outputs": [
        {
          "output_type": "execute_result",
          "data": {
            "text/plain": [
              "<matplotlib.axes._subplots.AxesSubplot at 0x7f897e85e100>"
            ]
          },
          "metadata": {},
          "execution_count": 10
        },
        {
          "output_type": "display_data",
          "data": {
            "text/plain": [
              "<Figure size 432x288 with 1 Axes>"
            ],
            "image/png": "[encoded data removed]"
          },
          "metadata": {
            "needs_background": "light"
          }
        }
      ]
    },
    {
      "cell_type": "code",
      "source": [
        "# we have some outliers\n",
        "data['loan_amnt'].plot(kind='density');"
      ],
      "metadata": {
        "colab": {
          "base_uri": "https://localhost:8080/",
          "height": 276
        },
        "id": "2sIq5nl5OGew",
        "outputId": "bd1839d4-89d2-4bff-92cd-76fa6af31fe8"
      },
      "execution_count": 11,
      "outputs": [
        {
          "output_type": "display_data",
          "data": {
            "text/plain": [
              "<Figure size 432x288 with 1 Axes>"
            ],
            "image/png": "[encoded data removed]"
          },
          "metadata": {
            "needs_background": "light"
          }
        }
      ]
    },
    {
      "cell_type": "code",
      "source": [
        "plt.hist(data['loan_amnt'], bins=16) # data is skewed to the right, may be this column will need normalization"
      ],
      "metadata": {
        "colab": {
          "base_uri": "https://localhost:8080/",
          "height": 405
        },
        "id": "uBgTf7BGO4SY",
        "outputId": "f8b90406-d658-4dfa-af38-3745df6c8643"
      },
      "execution_count": 12,
      "outputs": [
        {
          "output_type": "execute_result",
          "data": {
            "text/plain": [
              "(array([1.3630e+04, 4.0597e+04, 4.4211e+04, 6.7675e+04, 4.3817e+04,\n",
              "        4.2762e+04, 2.4116e+04, 3.9226e+04, 1.4231e+04, 2.4346e+04,\n",
              "        5.5190e+03, 1.5436e+04, 3.4080e+03, 1.6795e+04, 6.5000e+01,\n",
              "        1.9600e+02]),\n",
              " array([  500.  ,  2968.75,  5437.5 ,  7906.25, 10375.  , 12843.75,\n",
              "        15312.5 , 17781.25, 20250.  , 22718.75, 25187.5 , 27656.25,\n",
              "        30125.  , 32593.75, 35062.5 , 37531.25, 40000.  ]),\n",
              " <a list of 16 Patch objects>)"
            ]
          },
          "metadata": {},
          "execution_count": 12
        },
        {
          "output_type": "display_data",
          "data": {
            "text/plain": [
              "<Figure size 432x288 with 1 Axes>"
            ],
            "image/png": "[encoded data removed]"
          },
          "metadata": {
            "needs_background": "light"
          }
        }
      ]
    },
    {
      "cell_type": "code",
      "source": [
        "sns.boxplot(x='loan_status', y='loan_amnt', data=data)"
      ],
      "metadata": {
        "colab": {
          "base_uri": "https://localhost:8080/",
          "height": 297
        },
        "id": "VHnxMFuoJsXx",
        "outputId": "1bae34bd-0980-4081-b2e8-1eddb4340af2"
      },
      "execution_count": 13,
      "outputs": [
        {
          "output_type": "execute_result",
          "data": {
            "text/plain": [
              "<matplotlib.axes._subplots.AxesSubplot at 0x7f8983e31a90>"
            ]
          },
          "metadata": {},
          "execution_count": 13
        },
        {
          "output_type": "display_data",
          "data": {
            "text/plain": [
              "<Figure size 432x288 with 1 Axes>"
            ],
            "image/png": "[encoded data removed]"
          },
          "metadata": {
            "needs_background": "light"
          }
        }
      ]
    },
    {
      "cell_type": "code",
      "source": [
        "data.groupby('loan_status')['loan_amnt'].describe()"
      ],
      "metadata": {
        "colab": {
          "base_uri": "https://localhost:8080/",
          "height": 143
        },
        "id": "2TyqMGmHKG1s",
        "outputId": "c2b4a6bc-eca9-43d9-8310-ef592e33f17c"
      },
      "execution_count": 14,
      "outputs": [
        {
          "output_type": "execute_result",
          "data": {
            "text/plain": [
              "                count          mean          std     min     25%      50%  \\\n",
              "loan_status                                                                 \n",
              "Charged Off   77673.0  15126.300967  8505.090557  1000.0  8525.0  14000.0   \n",
              "Fully Paid   318357.0  13866.878771  8302.319699   500.0  7500.0  12000.0   \n",
              "\n",
              "                 75%      max  \n",
              "loan_status                    \n",
              "Charged Off  20000.0  40000.0  \n",
              "Fully Paid   19225.0  40000.0  "
            ],
            "text/html": [
              "\n",
              "  <div id=\"df-1c8fe9fe-dc0b-48b2-a8cd-8e9efb447d9f\">\n",
              "    <div class=\"colab-df-container\">\n",
              "      <div>\n",
              "<style scoped>\n",
              "    .dataframe tbody tr th:only-of-type {\n",
              "        vertical-align: middle;\n",
              "    }\n",
              "\n",
              "    .dataframe tbody tr th {\n",
              "        vertical-align: top;\n",
              "    }\n",
              "\n",
              "    .dataframe thead th {\n",
              "        text-align: right;\n",
              "    }\n",
              "</style>\n",
              "<table border=\"1\" class=\"dataframe\">\n",
              "  <thead>\n",
              "    <tr style=\"text-align: right;\">\n",
              "      <th></th>\n",
              "      <th>count</th>\n",
              "      <th>mean</th>\n",
              "      <th>std</th>\n",
              "      <th>min</th>\n",
              "      <th>25%</th>\n",
              "      <th>50%</th>\n",
              "      <th>75%</th>\n",
              "      <th>max</th>\n",
              "    </tr>\n",
              "    <tr>\n",
              "      <th>loan_status</th>\n",
              "      <th></th>\n",
              "      <th></th>\n",
              "      <th></th>\n",
              "      <th></th>\n",
              "      <th></th>\n",
              "      <th></th>\n",
              "      <th></th>\n",
              "      <th></th>\n",
              "    </tr>\n",
              "  </thead>\n",
              "  <tbody>\n",
              "    <tr>\n",
              "      <th>Charged Off</th>\n",
              "      <td>77673.0</td>\n",
              "      <td>15126.300967</td>\n",
              "      <td>8505.090557</td>\n",
              "      <td>1000.0</td>\n",
              "      <td>8525.0</td>\n",
              "      <td>14000.0</td>\n",
              "      <td>20000.0</td>\n",
              "      <td>40000.0</td>\n",
              "    </tr>\n",
              "    <tr>\n",
              "      <th>Fully Paid</th>\n",
              "      <td>318357.0</td>\n",
              "      <td>13866.878771</td>\n",
              "      <td>8302.319699</td>\n",
              "      <td>500.0</td>\n",
              "      <td>7500.0</td>\n",
              "      <td>12000.0</td>\n",
              "      <td>19225.0</td>\n",
              "      <td>40000.0</td>\n",
              "    </tr>\n",
              "  </tbody>\n",
              "</table>\n",
              "</div>\n",
              "      <button class=\"colab-df-convert\" onclick=\"convertToInteractive('df-1c8fe9fe-dc0b-48b2-a8cd-8e9efb447d9f')\"\n",
              "              title=\"Convert this dataframe to an interactive table.\"\n",
              "              style=\"display:none;\">\n",
              "        \n",
              "  <svg xmlns=\"http://www.w3.org/2000/svg\" height=\"24px\"viewBox=\"0 0 24 24\"\n",
              "       width=\"24px\">\n",
              "    <path d=\"M0 0h24v24H0V0z\" fill=\"none\"/>\n",
              "    <path d=\"M18.56 5.44l.94 2.06.94-2.06 2.06-.94-2.06-.94-.94-2.06-.94 2.06-2.06.94zm-11 1L8.5 8.5l.94-2.06 2.06-.94-2.06-.94L8.5 2.5l-.94 2.06-2.06.94zm10 10l.94 2.06.94-2.06 2.06-.94-2.06-.94-.94-2.06-.94 2.06-2.06.94z\"/><path d=\"M17.41 7.96l-1.37-1.37c-.4-.4-.92-.59-1.43-.59-.52 0-1.04.2-1.43.59L10.3 9.45l-7.72 7.72c-.78.78-.78 2.05 0 2.83L4 21.41c.39.39.9.59 1.41.59.51 0 1.02-.2 1.41-.59l7.78-7.78 2.81-2.81c.8-.78.8-2.07 0-2.86zM5.41 20L4 18.59l7.72-7.72 1.47 1.35L5.41 20z\"/>\n",
              "  </svg>\n",
              "      </button>\n",
              "      \n",
              "  <style>\n",
              "    .colab-df-container {\n",
              "      display:flex;\n",
              "      flex-wrap:wrap;\n",
              "      gap: 12px;\n",
              "    }\n",
              "\n",
              "    .colab-df-convert {\n",
              "      background-color: #E8F0FE;\n",
              "      border: none;\n",
              "      border-radius: 50%;\n",
              "      cursor: pointer;\n",
              "      display: none;\n",
              "      fill: #1967D2;\n",
              "      height: 32px;\n",
              "      padding: 0 0 0 0;\n",
              "      width: 32px;\n",
              "    }\n",
              "\n",
              "    .colab-df-convert:hover {\n",
              "      background-color: #E2EBFA;\n",
              "      box-shadow: 0px 1px 2px rgba(60, 64, 67, 0.3), 0px 1px 3px 1px rgba(60, 64, 67, 0.15);\n",
              "      fill: #174EA6;\n",
              "    }\n",
              "\n",
              "    [theme=dark] .colab-df-convert {\n",
              "      background-color: #3B4455;\n",
              "      fill: #D2E3FC;\n",
              "    }\n",
              "\n",
              "    [theme=dark] .colab-df-convert:hover {\n",
              "      background-color: #434B5C;\n",
              "      box-shadow: 0px 1px 3px 1px rgba(0, 0, 0, 0.15);\n",
              "      filter: drop-shadow(0px 1px 2px rgba(0, 0, 0, 0.3));\n",
              "      fill: #FFFFFF;\n",
              "    }\n",
              "  </style>\n",
              "\n",
              "      <script>\n",
              "        const buttonEl =\n",
              "          document.querySelector('#df-1c8fe9fe-dc0b-48b2-a8cd-8e9efb447d9f button.colab-df-convert');\n",
              "        buttonEl.style.display =\n",
              "          google.colab.kernel.accessAllowed ? 'block' : 'none';\n",
              "\n",
              "        async function convertToInteractive(key) {\n",
              "          const element = document.querySelector('#df-1c8fe9fe-dc0b-48b2-a8cd-8e9efb447d9f');\n",
              "          const dataTable =\n",
              "            await google.colab.kernel.invokeFunction('convertToInteractive',\n",
              "                                                     [key], {});\n",
              "          if (!dataTable) return;\n",
              "\n",
              "          const docLinkHtml = 'Like what you see? Visit the ' +\n",
              "            '<a target=\"_blank\" href=https://colab.research.google.com/notebooks/data_table.ipynb>data table notebook</a>'\n",
              "            + ' to learn more about interactive tables.';\n",
              "          element.innerHTML = '';\n",
              "          dataTable['output_type'] = 'display_data';\n",
              "          await google.colab.output.renderOutput(dataTable, element);\n",
              "          const docLink = document.createElement('div');\n",
              "          docLink.innerHTML = docLinkHtml;\n",
              "          element.appendChild(docLink);\n",
              "        }\n",
              "      </script>\n",
              "    </div>\n",
              "  </div>\n",
              "  "
            ]
          },
          "metadata": {},
          "execution_count": 14
        }
      ]
    },
    {
      "cell_type": "code",
      "source": [
        "# test the normality, p-value close to 0, data doesn't come from normal distribution\n",
        "\n",
        "\n",
        "\n",
        "shapiro(data['loan_amnt'])"
      ],
      "metadata": {
        "colab": {
          "base_uri": "https://localhost:8080/"
        },
        "id": "FTL1gAtSSrTC",
        "outputId": "5ed35784-2105-43c6-bf77-984cb7828b09"
      },
      "execution_count": 15,
      "outputs": [
        {
          "output_type": "execute_result",
          "data": {
            "text/plain": [
              "ShapiroResult(statistic=0.9391361474990845, pvalue=0.0)"
            ]
          },
          "metadata": {},
          "execution_count": 15
        }
      ]
    },
    {
      "cell_type": "markdown",
      "source": [
        "#### term column"
      ],
      "metadata": {
        "id": "H7kAdA-fTpMV"
      }
    },
    {
      "cell_type": "code",
      "source": [
        "data['term'].value_counts()"
      ],
      "metadata": {
        "colab": {
          "base_uri": "https://localhost:8080/"
        },
        "id": "WARNiGaDcgjZ",
        "outputId": "c3a70625-15b7-48b5-ad5b-145b5b932037"
      },
      "execution_count": 16,
      "outputs": [
        {
          "output_type": "execute_result",
          "data": {
            "text/plain": [
              " 36 months    302005\n",
              " 60 months     94025\n",
              "Name: term, dtype: int64"
            ]
          },
          "metadata": {},
          "execution_count": 16
        }
      ]
    },
    {
      "cell_type": "code",
      "source": [
        "# we can apply the column transformation to this column, since 36 and 60 are numerical values and can have effects on the target\n",
        "\n",
        "def get_months(value):\n",
        "  return int(value[:3])"
      ],
      "metadata": {
        "id": "d1r6Djsicjja"
      },
      "execution_count": 17,
      "outputs": []
    },
    {
      "cell_type": "code",
      "source": [
        "data['term'] = data['term'].map(get_months)"
      ],
      "metadata": {
        "id": "Jyd7zTtcc_1p"
      },
      "execution_count": 18,
      "outputs": []
    },
    {
      "cell_type": "code",
      "source": [
        "data['term'].value_counts()"
      ],
      "metadata": {
        "colab": {
          "base_uri": "https://localhost:8080/"
        },
        "id": "yp-vFyg-eIVk",
        "outputId": "2a999ebc-6ffe-4357-ca39-772aefaedbb4"
      },
      "execution_count": 19,
      "outputs": [
        {
          "output_type": "execute_result",
          "data": {
            "text/plain": [
              "36    302005\n",
              "60     94025\n",
              "Name: term, dtype: int64"
            ]
          },
          "metadata": {},
          "execution_count": 19
        }
      ]
    },
    {
      "cell_type": "code",
      "source": [
        "sns.countplot(data['term'])"
      ],
      "metadata": {
        "colab": {
          "base_uri": "https://localhost:8080/",
          "height": 296
        },
        "id": "Aiz8qr7JeLfM",
        "outputId": "d0f42db5-49c2-4ea7-cc58-5fdb083af595"
      },
      "execution_count": 20,
      "outputs": [
        {
          "output_type": "execute_result",
          "data": {
            "text/plain": [
              "<matplotlib.axes._subplots.AxesSubplot at 0x7f897e861310>"
            ]
          },
          "metadata": {},
          "execution_count": 20
        },
        {
          "output_type": "display_data",
          "data": {
            "text/plain": [
              "<Figure size 432x288 with 1 Axes>"
            ],
            "image/png": "[encoded data removed]"
          },
          "metadata": {
            "needs_background": "light"
          }
        }
      ]
    },
    {
      "cell_type": "markdown",
      "source": [
        "#### int_rate column"
      ],
      "metadata": {
        "id": "7gbsowKefJXY"
      }
    },
    {
      "cell_type": "code",
      "source": [
        "get_col_description('int_rate')"
      ],
      "metadata": {
        "colab": {
          "base_uri": "https://localhost:8080/"
        },
        "id": "dN-3q3k7h2hE",
        "outputId": "c429f2c9-262f-4577-9d57-993741e9df39"
      },
      "execution_count": 21,
      "outputs": [
        {
          "output_type": "stream",
          "name": "stdout",
          "text": [
            "\n",
            "Column name: int_rate\n",
            "\n",
            "Data type of the column: float64\n",
            "\n",
            "Column information: Interest Rate on the loan\n",
            "\n"
          ]
        }
      ]
    },
    {
      "cell_type": "code",
      "source": [
        "data['int_rate'].describe()"
      ],
      "metadata": {
        "colab": {
          "base_uri": "https://localhost:8080/"
        },
        "id": "bVa3u9qLh5VD",
        "outputId": "b578522a-22e6-40ac-fec2-9940bce46e8d"
      },
      "execution_count": 22,
      "outputs": [
        {
          "output_type": "execute_result",
          "data": {
            "text/plain": [
              "count    396030.000000\n",
              "mean         13.639400\n",
              "std           4.472157\n",
              "min           5.320000\n",
              "25%          10.490000\n",
              "50%          13.330000\n",
              "75%          16.490000\n",
              "max          30.990000\n",
              "Name: int_rate, dtype: float64"
            ]
          },
          "metadata": {},
          "execution_count": 22
        }
      ]
    },
    {
      "cell_type": "code",
      "source": [
        "# looks to have a few outliers since mean and median are near, we'll see\n",
        "\n",
        "plt.hist(data['int_rate'], bins=18);"
      ],
      "metadata": {
        "colab": {
          "base_uri": "https://localhost:8080/",
          "height": 265
        },
        "id": "shnAPCyOjP9w",
        "outputId": "85f5b31a-b6d9-446a-c772-091db96cbbcc"
      },
      "execution_count": 23,
      "outputs": [
        {
          "output_type": "display_data",
          "data": {
            "text/plain": [
              "<Figure size 432x288 with 1 Axes>"
            ],
            "image/png": "[encoded data removed]"
          },
          "metadata": {
            "needs_background": "light"
          }
        }
      ]
    },
    {
      "cell_type": "code",
      "source": [
        "data['int_rate'].plot(kind='kde')"
      ],
      "metadata": {
        "id": "AJlVEnM1jikx"
      },
      "execution_count": null,
      "outputs": []
    },
    {
      "cell_type": "code",
      "source": [
        "sns.boxplot(data['int_rate']);"
      ],
      "metadata": {
        "id": "GZIx1smEjq5c"
      },
      "execution_count": null,
      "outputs": []
    },
    {
      "cell_type": "code",
      "source": [
        "data['int_rate'].value_counts(bins= [i for i in range(0, 40, 5)], sort=False)"
      ],
      "metadata": {
        "id": "CGhe4N5LkLUr"
      },
      "execution_count": null,
      "outputs": []
    },
    {
      "cell_type": "code",
      "source": [
        "shapiro(data['int_rate']) # data doesn't come from a normal distribution"
      ],
      "metadata": {
        "id": "cSlRajVwlvGb"
      },
      "execution_count": null,
      "outputs": []
    },
    {
      "cell_type": "markdown",
      "source": [
        "#### installment column"
      ],
      "metadata": {
        "id": "J9lYV2BQn54D"
      }
    },
    {
      "cell_type": "code",
      "source": [
        "get_col_description('installment')"
      ],
      "metadata": {
        "id": "WCJ5JDAXoPmd"
      },
      "execution_count": null,
      "outputs": []
    },
    {
      "cell_type": "code",
      "source": [
        "data['installment'].describe()"
      ],
      "metadata": {
        "id": "S_udY8JPoYe6"
      },
      "execution_count": null,
      "outputs": []
    },
    {
      "cell_type": "code",
      "source": [
        "plt.hist(data['installment']);"
      ],
      "metadata": {
        "id": "iUn0CRAspZoe"
      },
      "execution_count": null,
      "outputs": []
    },
    {
      "cell_type": "code",
      "source": [
        "sns.boxplot(data['installment']); # we have some outliers, and we can say roughly that data doesn't come from a normal distribution"
      ],
      "metadata": {
        "id": "sL2aVVMmpkOm"
      },
      "execution_count": null,
      "outputs": []
    },
    {
      "cell_type": "code",
      "source": [
        "shapiro(data['installment'])"
      ],
      "metadata": {
        "id": "qUCZtcx5poQc"
      },
      "execution_count": null,
      "outputs": []
    },
    {
      "cell_type": "markdown",
      "source": [
        "#### grade column"
      ],
      "metadata": {
        "id": "P4qg-Hr7qpTp"
      }
    },
    {
      "cell_type": "code",
      "source": [
        "get_col_description('grade')"
      ],
      "metadata": {
        "id": "wCo106enqtmf"
      },
      "execution_count": null,
      "outputs": []
    },
    {
      "cell_type": "markdown",
      "source": [
        "Loan grading is part of a lending institution's loan review or credit risk system and is usually an aspect of the credit underwriting and approval processes."
      ],
      "metadata": {
        "id": "WAGfFHXVq3eQ"
      }
    },
    {
      "cell_type": "code",
      "source": [
        "grade_values = data['grade'].value_counts().sort_index()"
      ],
      "metadata": {
        "id": "8eZgSWSPxoMX"
      },
      "execution_count": null,
      "outputs": []
    },
    {
      "cell_type": "code",
      "source": [
        "sns.barplot(grade_values.index, grade_values.values)"
      ],
      "metadata": {
        "id": "-op-fmspyFtQ"
      },
      "execution_count": null,
      "outputs": []
    },
    {
      "cell_type": "code",
      "source": [
        "sns.countplot(x='grade', data=data, hue='loan_status', order=[chr(i) for i in range(65, 72)])"
      ],
      "metadata": {
        "id": "YirltCZpKdnh"
      },
      "execution_count": null,
      "outputs": []
    },
    {
      "cell_type": "markdown",
      "source": [
        "#### sub_grade column"
      ],
      "metadata": {
        "id": "XBov_05yydp8"
      }
    },
    {
      "cell_type": "code",
      "source": [
        "get_col_description('sub_grade')"
      ],
      "metadata": {
        "id": "H26eP5S8FxyV"
      },
      "execution_count": null,
      "outputs": []
    },
    {
      "cell_type": "code",
      "source": [
        "plt.figure(figsize=(12, 5))\n",
        "sub_grade_values = data['sub_grade'].value_counts().sort_index()\n",
        "\n",
        "sns.barplot(sub_grade_values.index, sub_grade_values.values, palette='coolwarm')"
      ],
      "metadata": {
        "id": "9CGyTvGWF5se"
      },
      "execution_count": null,
      "outputs": []
    },
    {
      "cell_type": "code",
      "source": [
        "plt.figure(figsize=(12, 4))\n",
        "\n",
        "subgrade_order = sorted(data['sub_grade'].unique())\n",
        "\n",
        "sns.countplot(\n",
        "    x='sub_grade', data=data, order=subgrade_order,\n",
        "    palette=random.choice(palettes), hue='loan_status'\n",
        ")"
      ],
      "metadata": {
        "id": "ekQ4KkxILKxE"
      },
      "execution_count": null,
      "outputs": []
    },
    {
      "cell_type": "code",
      "source": [
        "f_and_g = data[(data['grade']=='G') | (data['grade']=='F')]\n",
        "\n",
        "\n",
        "\n",
        "plt.figure(figsize=(12, 4))\n",
        "\n",
        "subgrade_order = sorted(f_and_g['sub_grade'].unique())\n",
        "\n",
        "sns.countplot(\n",
        "    x='sub_grade', data=f_and_g, order=subgrade_order,\n",
        "    palette=random.choice(palettes), hue='loan_status'\n",
        ")"
      ],
      "metadata": {
        "id": "dsaSuIMVNXjV"
      },
      "execution_count": null,
      "outputs": []
    },
    {
      "cell_type": "code",
      "source": [
        "sub_grade_values"
      ],
      "metadata": {
        "id": "7WciOqvUGNHU"
      },
      "execution_count": null,
      "outputs": []
    },
    {
      "cell_type": "markdown",
      "source": [
        "#### emp_title column"
      ],
      "metadata": {
        "id": "7_lJnGAWG0gb"
      }
    },
    {
      "cell_type": "code",
      "source": [
        "get_col_description('emp_title')"
      ],
      "metadata": {
        "id": "WWtIonO7Hk5B"
      },
      "execution_count": null,
      "outputs": []
    },
    {
      "cell_type": "code",
      "source": [
        "data['emp_title'].nunique()"
      ],
      "metadata": {
        "id": "eo_Oq4hZxNaN"
      },
      "execution_count": null,
      "outputs": []
    },
    {
      "cell_type": "code",
      "source": [
        "# this column has ~17k unique values, and when looking at values, they are very noisy and less informative. I'll simply drop this column\n",
        "\n",
        "data.drop('emp_title', axis='columns', inplace=True)"
      ],
      "metadata": {
        "id": "O9gMJWqd85ZA"
      },
      "execution_count": null,
      "outputs": []
    },
    {
      "cell_type": "code",
      "source": [
        "data.shape"
      ],
      "metadata": {
        "id": "PfmGMqpO9MJq"
      },
      "execution_count": null,
      "outputs": []
    },
    {
      "cell_type": "markdown",
      "source": [
        "#### emp_length column"
      ],
      "metadata": {
        "id": "TU5POGwq9Np_"
      }
    },
    {
      "cell_type": "code",
      "source": [
        "get_col_description('emp_length')"
      ],
      "metadata": {
        "id": "h_ywzDWP9P1H"
      },
      "execution_count": null,
      "outputs": []
    },
    {
      "cell_type": "code",
      "source": [
        "n_null_values = data['emp_length'].isna().sum()\n",
        "\n",
        "print('There are {} null values in the \"emp_length\" column.'.format(n_null_values))"
      ],
      "metadata": {
        "id": "NrtuSFyC9bk7"
      },
      "execution_count": null,
      "outputs": []
    },
    {
      "cell_type": "code",
      "source": [
        "n_unique_values = data['emp_length'].nunique()\n",
        "\n",
        "print('There are {} unique values in the \"emp_length\" column.'.format(n_unique_values))"
      ],
      "metadata": {
        "id": "jM2spezL9zBw"
      },
      "execution_count": null,
      "outputs": []
    },
    {
      "cell_type": "code",
      "source": [
        "data['emp_length'].value_counts()"
      ],
      "metadata": {
        "id": "_zmYScGv-ITl"
      },
      "execution_count": null,
      "outputs": []
    },
    {
      "cell_type": "code",
      "source": [
        "pd.DataFrame(data['emp_length']).head(20).loc[0][0].split()"
      ],
      "metadata": {
        "id": "fWLmgtwD-nbs"
      },
      "execution_count": null,
      "outputs": []
    },
    {
      "cell_type": "code",
      "source": [
        "def convert(col_value):\n",
        "  value = 0\n",
        "  split_value = col_value.split()\n",
        "  n_of_words = len(split_value)\n",
        "  if n_of_words == 2:\n",
        "    if split_value[0] == '10+':\n",
        "      value = 11\n",
        "    else:\n",
        "      value = int(split_value[0])\n",
        "  else:\n",
        "    value = 0\n",
        "  return value\n"
      ],
      "metadata": {
        "id": "JW6C05wm-4jt"
      },
      "execution_count": null,
      "outputs": []
    },
    {
      "cell_type": "code",
      "source": [
        "data['emp_length'] = data['emp_length'].map(convert, na_action='ignore')"
      ],
      "metadata": {
        "id": "50J2CQmQAb_u"
      },
      "execution_count": null,
      "outputs": []
    },
    {
      "cell_type": "code",
      "source": [
        "data['emp_length'].value_counts()"
      ],
      "metadata": {
        "id": "CuXZ15gKC4WT"
      },
      "execution_count": null,
      "outputs": []
    },
    {
      "cell_type": "code",
      "source": [
        "\n",
        "\n",
        "sns.countplot(data['emp_length'], palette='gnuplot2_r')"
      ],
      "metadata": {
        "id": "GBnObVq7C7hD"
      },
      "execution_count": null,
      "outputs": []
    },
    {
      "cell_type": "code",
      "source": [
        "# Is this column useful?\n",
        "\n",
        "emp_co = data[data['loan_status']==\"Charged Off\"].groupby(\"emp_length\").count()['loan_status']\n",
        "\n",
        "emp_fp = data[data['loan_status']==\"Fully Paid\"].groupby(\"emp_length\").count()['loan_status']\n",
        "\n",
        "emp_len = emp_co / emp_fp\n",
        "\n",
        "emp_len"
      ],
      "metadata": {
        "id": "LwJgUp6pDGT3"
      },
      "execution_count": null,
      "outputs": []
    },
    {
      "cell_type": "code",
      "source": [
        "plt.figure(figsize=(12,4))\n",
        "sns.countplot(x='emp_length',data=data, order=[float(i) for i in range(0, 12)], hue='loan_status')"
      ],
      "metadata": {
        "id": "3RDzYmfvy2Bt"
      },
      "execution_count": null,
      "outputs": []
    },
    {
      "cell_type": "code",
      "source": [
        "# charge off rates are extremely similar accross all columns, I'll drop this column too\n",
        "\n",
        "data.drop('emp_length', axis='columns', inplace=True)"
      ],
      "metadata": {
        "id": "2eJ0eetEzO1m"
      },
      "execution_count": null,
      "outputs": []
    },
    {
      "cell_type": "markdown",
      "source": [
        "#### home_ownership column"
      ],
      "metadata": {
        "id": "f_sVPpP5zcSK"
      }
    },
    {
      "cell_type": "code",
      "source": [
        "get_col_description('home_ownership')"
      ],
      "metadata": {
        "id": "MmkUpIMLzdp_"
      },
      "execution_count": null,
      "outputs": []
    },
    {
      "cell_type": "code",
      "source": [
        "data['home_ownership'].value_counts()"
      ],
      "metadata": {
        "id": "aGX-gg6-znFo"
      },
      "execution_count": null,
      "outputs": []
    },
    {
      "cell_type": "code",
      "source": [
        "data['home_ownership'].isnull().sum()"
      ],
      "metadata": {
        "id": "x6ggzOee0DEA"
      },
      "execution_count": null,
      "outputs": []
    },
    {
      "cell_type": "code",
      "source": [
        "def change(value):\n",
        "  if value == 'NONE' or value == 'ANY':\n",
        "    value = 'OTHER'\n",
        "  return value\n",
        "data['home_ownership'] = data['home_ownership'].map(change)\n",
        "\n",
        "\n",
        "data['home_ownership'].value_counts()"
      ],
      "metadata": {
        "id": "AvKhP2xYzszK"
      },
      "execution_count": null,
      "outputs": []
    },
    {
      "cell_type": "code",
      "source": [
        "sns.countplot(data['home_ownership'], palette=random.choice(palettes))"
      ],
      "metadata": {
        "id": "OPk56sas0PJ4"
      },
      "execution_count": null,
      "outputs": []
    },
    {
      "cell_type": "markdown",
      "source": [
        "#### annual_inc column"
      ],
      "metadata": {
        "id": "6-KIl_2x2FCP"
      }
    },
    {
      "cell_type": "code",
      "source": [
        "get_col_description('annual_inc')"
      ],
      "metadata": {
        "id": "UbZ372de2TWr"
      },
      "execution_count": null,
      "outputs": []
    },
    {
      "cell_type": "code",
      "source": [
        "data['annual_inc'].describe()"
      ],
      "metadata": {
        "id": "_1-291xc2e11"
      },
      "execution_count": null,
      "outputs": []
    },
    {
      "cell_type": "code",
      "source": [
        "data['annual_inc'].plot(kind='kde')"
      ],
      "metadata": {
        "id": "M_gLN4Wa2j_K"
      },
      "execution_count": null,
      "outputs": []
    },
    {
      "cell_type": "code",
      "source": [
        "data['annual_inc'].isnull().sum()"
      ],
      "metadata": {
        "id": "xu4QfIQV2vC7"
      },
      "execution_count": null,
      "outputs": []
    },
    {
      "cell_type": "code",
      "source": [
        "plt.xscale('log')\n",
        "sns.boxplot(data['annual_inc'])"
      ],
      "metadata": {
        "id": "nQ0tacEd3OvM"
      },
      "execution_count": null,
      "outputs": []
    },
    {
      "cell_type": "code",
      "source": [
        "shapiro(data['annual_inc'])"
      ],
      "metadata": {
        "id": "6oglUnzY3Vwr"
      },
      "execution_count": null,
      "outputs": []
    },
    {
      "cell_type": "code",
      "source": [
        "# data is not normal\n",
        "data['annual_inc'].describe(percentiles=[i / 20 for i in range(0, 21)])"
      ],
      "metadata": {
        "id": "4LIMbdk23mw0"
      },
      "execution_count": null,
      "outputs": []
    },
    {
      "cell_type": "code",
      "source": [
        "data['annual_inc'].min()"
      ],
      "metadata": {
        "id": "iqOMIuhT3tOq"
      },
      "execution_count": null,
      "outputs": []
    },
    {
      "cell_type": "code",
      "source": [
        "data['annual_inc'].max()"
      ],
      "metadata": {
        "id": "Pojtaz1x6EW8"
      },
      "execution_count": null,
      "outputs": []
    },
    {
      "cell_type": "code",
      "source": [
        "len(data[data['annual_inc'] < 1e3])"
      ],
      "metadata": {
        "id": "AUn7L2_K6HCs"
      },
      "execution_count": null,
      "outputs": []
    },
    {
      "cell_type": "code",
      "source": [
        "def get_monthly_income(annual_income):\n",
        "  return annual_income / 12\n",
        "\n",
        "\n",
        "\n",
        "data['monthly_income'] = data['annual_inc'].map(get_monthly_income)\n",
        "\n",
        "data.drop('annual_inc', axis='columns', inplace=True)"
      ],
      "metadata": {
        "id": "G3Gjb_vk6NRW"
      },
      "execution_count": null,
      "outputs": []
    },
    {
      "cell_type": "code",
      "source": [
        "data['monthly_income'].describe()"
      ],
      "metadata": {
        "id": "ZVmD65AX7F1y"
      },
      "execution_count": null,
      "outputs": []
    },
    {
      "cell_type": "code",
      "source": [
        "plt.xscale('log')\n",
        "sns.boxplot(data['monthly_income'])"
      ],
      "metadata": {
        "id": "r0qJlMMx7FhI"
      },
      "execution_count": null,
      "outputs": []
    },
    {
      "cell_type": "markdown",
      "source": [
        "#### verification_status column"
      ],
      "metadata": {
        "id": "rQiPfewO68_p"
      }
    },
    {
      "cell_type": "code",
      "source": [
        "get_col_description('verification_status')"
      ],
      "metadata": {
        "id": "-ERjq_m17hwe"
      },
      "execution_count": null,
      "outputs": []
    },
    {
      "cell_type": "code",
      "source": [
        "data['verification_status'].nunique()"
      ],
      "metadata": {
        "id": "1UlvfJQ67uv1"
      },
      "execution_count": null,
      "outputs": []
    },
    {
      "cell_type": "code",
      "source": [
        "data['verification_status'].value_counts()"
      ],
      "metadata": {
        "id": "_gD71S4i71W5"
      },
      "execution_count": null,
      "outputs": []
    },
    {
      "cell_type": "code",
      "source": [
        "status = {'Not Verified' : 0, 'Verified' : 1, 'Source Verified' : 2}\n",
        "\n",
        "data['verification_status'] = data['verification_status'].map(status)\n",
        "\n",
        "\n",
        "data['verification_status'].value_counts().sort_index()"
      ],
      "metadata": {
        "id": "58zxnzvW74-E"
      },
      "execution_count": null,
      "outputs": []
    },
    {
      "cell_type": "markdown",
      "source": [
        "#### Last touches"
      ],
      "metadata": {
        "id": "5EjDuYfR8kEw"
      }
    },
    {
      "cell_type": "code",
      "source": [
        "data['loan_repaid'] = data['loan_status'].map({'Fully Paid':1, 'Charged Off':0})"
      ],
      "metadata": {
        "id": "eX6fwGPgObaO"
      },
      "execution_count": null,
      "outputs": []
    },
    {
      "cell_type": "markdown",
      "source": [
        "### Data PreProcessing"
      ],
      "metadata": {
        "id": "vMfwVoLQOlKG"
      }
    },
    {
      "cell_type": "code",
      "source": [
        "len(data)"
      ],
      "metadata": {
        "id": "fQXoDMDDPMrS"
      },
      "execution_count": null,
      "outputs": []
    },
    {
      "cell_type": "code",
      "source": [
        "data.isnull().sum()"
      ],
      "metadata": {
        "id": "wICOFTcYPPn8"
      },
      "execution_count": null,
      "outputs": []
    },
    {
      "cell_type": "code",
      "source": [
        "data['loan_status'].value_counts()"
      ],
      "metadata": {
        "id": "jHsBLYFzPTxm"
      },
      "execution_count": null,
      "outputs": []
    },
    {
      "cell_type": "code",
      "source": [
        "data.isnull().sum() / len(data) * 100.0"
      ],
      "metadata": {
        "id": "1KAu8oFVPhbC"
      },
      "execution_count": null,
      "outputs": []
    },
    {
      "cell_type": "code",
      "source": [
        "# correlations\n",
        "\n",
        "plt.figure(figsize=(12,7))\n",
        "sns.heatmap(data.corr(),annot=True,cmap='viridis')\n",
        "plt.ylim(10, 0)"
      ],
      "metadata": {
        "id": "Ugn4B7gLPz0Q"
      },
      "execution_count": null,
      "outputs": []
    },
    {
      "cell_type": "code",
      "source": [
        "# dealing with missing data\n",
        "\n",
        "data['purpose'].head()"
      ],
      "metadata": {
        "id": "Zv2Wwd8pZYgY"
      },
      "execution_count": null,
      "outputs": []
    },
    {
      "cell_type": "code",
      "source": [
        "data['title'].head(10)"
      ],
      "metadata": {
        "id": "ZttTxLMtZyLf"
      },
      "execution_count": null,
      "outputs": []
    },
    {
      "cell_type": "code",
      "source": [
        "data['title'].value_counts()"
      ],
      "metadata": {
        "id": "U2r3zSlLZ1Kr"
      },
      "execution_count": null,
      "outputs": []
    },
    {
      "cell_type": "code",
      "source": [
        "data.drop('title', axis='columns', inplace=True)"
      ],
      "metadata": {
        "id": "eg2yWfS4Z8ov"
      },
      "execution_count": null,
      "outputs": []
    },
    {
      "cell_type": "code",
      "source": [
        "data['mort_acc'].value_counts()"
      ],
      "metadata": {
        "id": "-ChAZ5ocaC5O"
      },
      "execution_count": null,
      "outputs": []
    },
    {
      "cell_type": "code",
      "source": [
        "data.corr()['mort_acc'].sort_values()"
      ],
      "metadata": {
        "id": "NrxL93TPaLCm"
      },
      "execution_count": null,
      "outputs": []
    },
    {
      "cell_type": "code",
      "source": [
        "total_acc_avg = data.groupby('total_acc')['mort_acc'].mean()"
      ],
      "metadata": {
        "id": "LowBrzJMankX"
      },
      "execution_count": null,
      "outputs": []
    },
    {
      "cell_type": "code",
      "source": [
        "def fill_mort_acc(total_acc, mort_acc):\n",
        "\n",
        "  if np.isnan(mort_acc):\n",
        "    return total_acc_avg[total_acc]\n",
        "  return mort_acc"
      ],
      "metadata": {
        "id": "_eAGdEUda7-Z"
      },
      "execution_count": null,
      "outputs": []
    },
    {
      "cell_type": "code",
      "source": [
        "data['mort_acc'] = data.apply(lambda x: fill_mort_acc(x['total_acc'], x['mort_acc']), axis='columns')"
      ],
      "metadata": {
        "id": "lY91Umhsbjj5"
      },
      "execution_count": null,
      "outputs": []
    },
    {
      "cell_type": "code",
      "source": [
        "data.dropna(axis='columns', inplace=True)"
      ],
      "metadata": {
        "id": "_zsWsyBKb4q2"
      },
      "execution_count": null,
      "outputs": []
    },
    {
      "cell_type": "code",
      "source": [
        "len(data)"
      ],
      "metadata": {
        "id": "a1DIZdKFcHNy"
      },
      "execution_count": null,
      "outputs": []
    },
    {
      "cell_type": "code",
      "source": [
        "data.isnull().sum()"
      ],
      "metadata": {
        "id": "o9vyA188cK4M"
      },
      "execution_count": null,
      "outputs": []
    },
    {
      "cell_type": "code",
      "source": [
        "data.select_dtypes(['object']).columns"
      ],
      "metadata": {
        "id": "sh8B0r8dcRwN"
      },
      "execution_count": null,
      "outputs": []
    },
    {
      "cell_type": "code",
      "source": [
        "data.drop('grade', axis='columns', inplace=True)"
      ],
      "metadata": {
        "id": "g9FUd5DpcbKR"
      },
      "execution_count": null,
      "outputs": []
    },
    {
      "cell_type": "code",
      "source": [
        "# sub_grade into dummy variables\n",
        "\n",
        "dummies = pd.get_dummies(data['sub_grade'], drop_first=True)\n",
        "\n",
        "data = pd.concat([data.drop('sub_grade', axis='columns'), dummies], axis='columns')"
      ],
      "metadata": {
        "id": "vfSH5-PMcwyN"
      },
      "execution_count": null,
      "outputs": []
    },
    {
      "cell_type": "code",
      "source": [
        "data.head()"
      ],
      "metadata": {
        "id": "FDRss7YfdZyW"
      },
      "execution_count": null,
      "outputs": []
    },
    {
      "cell_type": "code",
      "source": [
        "def dummies_df(columns, df=data):\n",
        "  for column in columns:\n",
        "    dummies = pd.get_dummies(df[column], drop_first=True)\n",
        "    df = pd.concat([df.drop(column, axis='columns'), dummies], axis='columns')\n",
        "  del dummies\n",
        "  return df"
      ],
      "metadata": {
        "id": "bItpBjNfdbLg"
      },
      "execution_count": null,
      "outputs": []
    },
    {
      "cell_type": "code",
      "source": [
        "data['purpose'].value_counts()"
      ],
      "metadata": {
        "id": "b-dlpipYebgm"
      },
      "execution_count": null,
      "outputs": []
    },
    {
      "cell_type": "code",
      "source": [
        "data = dummies_df(('verification_status', 'application_type', 'initial_list_status', 'purpose'), df=data)"
      ],
      "metadata": {
        "id": "skc9PpxreGpB"
      },
      "execution_count": null,
      "outputs": []
    },
    {
      "cell_type": "code",
      "source": [
        "data['home_ownership'].value_counts()"
      ],
      "metadata": {
        "id": "4rG2lNagek62"
      },
      "execution_count": null,
      "outputs": []
    },
    {
      "cell_type": "code",
      "source": [
        "data = dummies_df(['home_ownership'], df=data)"
      ],
      "metadata": {
        "id": "Ve9bZnocetIs"
      },
      "execution_count": null,
      "outputs": []
    },
    {
      "cell_type": "code",
      "source": [
        "data['zip_code'] = data['address'].map(lambda x:x[-5:])"
      ],
      "metadata": {
        "id": "yHJ2OQNce49b"
      },
      "execution_count": null,
      "outputs": []
    },
    {
      "cell_type": "code",
      "source": [
        "data['zip_code'].value_counts()"
      ],
      "metadata": {
        "id": "EOWKo-z-fLRP"
      },
      "execution_count": null,
      "outputs": []
    },
    {
      "cell_type": "code",
      "source": [
        "data.drop('address', axis='columns', inplace=True)\n",
        "\n",
        "data = dummies_df(['zip_code'], df=data)"
      ],
      "metadata": {
        "id": "PWuocFKlfPZs"
      },
      "execution_count": null,
      "outputs": []
    },
    {
      "cell_type": "code",
      "source": [
        "data.drop('issue_d', axis='columns', inplace=True)"
      ],
      "metadata": {
        "id": "DR_kJTWpfcMD"
      },
      "execution_count": null,
      "outputs": []
    },
    {
      "cell_type": "code",
      "source": [
        "data['earliest_cr_year'] = data['earliest_cr_line'].map(lambda x: int(x[-4:]))"
      ],
      "metadata": {
        "id": "tMAbdbQZfn_N"
      },
      "execution_count": null,
      "outputs": []
    },
    {
      "cell_type": "code",
      "source": [
        "data.drop('earliest_cr_line', axis='columns', inplace=True)"
      ],
      "metadata": {
        "id": "psCLER9Ef_ve"
      },
      "execution_count": null,
      "outputs": []
    },
    {
      "cell_type": "code",
      "source": [
        "## modelling phase\n",
        "\n",
        "data.drop('loan_status', axis='columns', inplace=True)\n",
        "\n",
        "\n",
        "X = data.drop('loan_repaid', axis='columns')\n",
        "y = data['loan_repaid']"
      ],
      "metadata": {
        "id": "KQAzmYGagHUk"
      },
      "execution_count": null,
      "outputs": []
    },
    {
      "cell_type": "code",
      "source": [
        "X.head()"
      ],
      "metadata": {
        "id": "iHYcc221gn_o"
      },
      "execution_count": null,
      "outputs": []
    },
    {
      "cell_type": "code",
      "source": [
        "X_train, X_test, y_train, y_test = train_test_split(X, y, test_size=.2)"
      ],
      "metadata": {
        "id": "WkmyS3Mdgruh"
      },
      "execution_count": null,
      "outputs": []
    },
    {
      "cell_type": "code",
      "source": [
        "scaler = MinMaxScaler()"
      ],
      "metadata": {
        "id": "TS-c-wLfhMNa"
      },
      "execution_count": null,
      "outputs": []
    },
    {
      "cell_type": "code",
      "source": [
        "X_train = scaler.fit_transform(X_train)\n",
        "\n",
        "X_test = scaler.transform(X_test)"
      ],
      "metadata": {
        "id": "L6HvUBTbheWV"
      },
      "execution_count": null,
      "outputs": []
    },
    {
      "cell_type": "code",
      "source": [
        "svc = LinearSVC()\n",
        "svc.fit(X_train, y_train)\n",
        "print('SVC score: ')\n",
        "svc.score(X_test, y_test)"
      ],
      "metadata": {
        "id": "_-7SjdM5hn7d"
      },
      "execution_count": null,
      "outputs": []
    },
    {
      "cell_type": "code",
      "source": [
        "y_pred = svc.predict(X_test)"
      ],
      "metadata": {
        "id": "VfqcJidZwaud"
      },
      "execution_count": null,
      "outputs": []
    },
    {
      "cell_type": "code",
      "source": [
        "print(classification_report(y_test, y_pred))"
      ],
      "metadata": {
        "id": "6qqvDwzTij8O"
      },
      "execution_count": null,
      "outputs": []
    },
    {
      "cell_type": "code",
      "source": [
        "cm = confusion_matrix(y_test, y_pred, normalize='all')"
      ],
      "metadata": {
        "id": "ZNSeKGjSWAhI"
      },
      "execution_count": null,
      "outputs": []
    },
    {
      "cell_type": "code",
      "source": [
        "\n",
        "disp = ConfusionMatrixDisplay(confusion_matrix=cm, display_labels=svc.classes_)\n",
        "\n",
        "disp.plot()"
      ],
      "metadata": {
        "id": "tKgOK1X8WHUQ"
      },
      "execution_count": null,
      "outputs": []
    },
    {
      "cell_type": "code",
      "source": [
        "log_reg = LogisticRegression()\n",
        "\n",
        "log_reg.fit(X_train, y_train)\n",
        "\n",
        "print('Logistic regression score: ', log_reg.score(X_test, y_test))"
      ],
      "metadata": {
        "id": "__7S7-z2WvIr"
      },
      "execution_count": null,
      "outputs": []
    },
    {
      "cell_type": "code",
      "source": [
        "y_pred = log_reg.predict(X_test)\n",
        "\n",
        "print(classification_report(y_test, y_pred))\n",
        "\n",
        "cm = confusion_matrix(y_test, y_pred, normalize='all')\n",
        "\n",
        "disp = ConfusionMatrixDisplay(confusion_matrix=cm, display_labels=log_reg.classes_)\n",
        "\n",
        "disp.plot()"
      ],
      "metadata": {
        "id": "-WIS7PnDdKCN"
      },
      "execution_count": null,
      "outputs": []
    },
    {
      "cell_type": "code",
      "source": [
        "gbc = GradientBoostingClassifier()\n",
        "\n",
        "gbc.fit(X_train, y_train)\n",
        "\n",
        "print('Gradient Boosting classifier: ', gbc.score(X_test, y_test))"
      ],
      "metadata": {
        "id": "yvTc_3fwdl8l"
      },
      "execution_count": null,
      "outputs": []
    },
    {
      "cell_type": "code",
      "source": [
        "y_pred = gbc.predict(X_test)\n",
        "\n",
        "\n",
        "print(classification_report(y_test, y_pred))\n",
        "\n",
        "cm = confusion_matrix(y_test, y_pred, normalize='all')\n",
        "\n",
        "disp = ConfusionMatrixDisplay(confusion_matrix=cm, display_labels=gbc.classes_)"
      ],
      "metadata": {
        "id": "UagIVoH1dzXP"
      },
      "execution_count": null,
      "outputs": []
    },
    {
      "cell_type": "code",
      "source": [
        "disp.plot()"
      ],
      "metadata": {
        "id": "K-Vn2YyIeyH8"
      },
      "execution_count": null,
      "outputs": []
    },
    {
      "cell_type": "code",
      "source": [
        "model = Sequential()\n",
        "\n",
        "model.add(Dense(80, activation='relu'))\n",
        "model.add(Dropout(.2))\n",
        "model.add(Dense(50, activation='relu'))\n",
        "model.add(Dropout(.4))\n",
        "model.add(Dense(35, activation='relu'))\n",
        "model.add(Dropout(.3))\n",
        "\n",
        "model.add(Dense(units=1, activation='sigmoid'))\n",
        "\n",
        "model.compile(loss='binary_crossentropy', optimizer='adam', metrics=['accuracy'])"
      ],
      "metadata": {
        "id": "nmf0g1l-gNiA"
      },
      "execution_count": null,
      "outputs": []
    },
    {
      "cell_type": "code",
      "source": [
        "model.fit(X_train, y_train, epochs=50, batch_size=512, validation_data=(X_test, y_test))"
      ],
      "metadata": {
        "id": "XZlVluZZg9mI"
      },
      "execution_count": null,
      "outputs": []
    },
    {
      "cell_type": "code",
      "source": [
        "y_pred = (model.predict(X_test) > 0.5).astype(\"int32\")\n",
        "\n",
        "print(classification_report(y_test, y_pred))"
      ],
      "metadata": {
        "id": "-ocBbT9dhHxo"
      },
      "execution_count": null,
      "outputs": []
    },
    {
      "cell_type": "code",
      "source": [],
      "metadata": {
        "id": "KhsjD-WIjUxw"
      },
      "execution_count": null,
      "outputs": []
    }
  ]
}